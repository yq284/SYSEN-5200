{
 "cells": [
  {
   "cell_type": "code",
   "execution_count": 1,
   "id": "c9b03340",
   "metadata": {},
   "outputs": [],
   "source": [
    "# P(1) wake vortex encounter"
   ]
  },
  {
   "cell_type": "code",
   "execution_count": 2,
   "id": "c08b3387",
   "metadata": {},
   "outputs": [],
   "source": [
    "# Proportion of arriving aircraft by size \n",
    "p_heavy = 0.33\n",
    "p_large = 0.46\n",
    "p_small = 0.21"
   ]
  },
  {
   "cell_type": "code",
   "execution_count": 3,
   "id": "7876b207",
   "metadata": {},
   "outputs": [],
   "source": [
    "# encounter situation format lead_in-trail\n",
    "p_HH = 0.53\n",
    "p_HL = 0.74\n",
    "p_HS = 0.82\n",
    "\n",
    "p_LH = 0.44\n",
    "p_LL = 0.61\n",
    "p_LS = 0.71\n",
    "\n",
    "p_SH = 0.28\n",
    "p_SL = 0.41\n",
    "p_SS = 0.59"
   ]
  },
  {
   "cell_type": "code",
   "execution_count": 4,
   "id": "9fe1ae77",
   "metadata": {},
   "outputs": [
    {
     "name": "stdout",
     "output_type": "stream",
     "text": [
      "0.576358\n"
     ]
    }
   ],
   "source": [
    "# Assuming that wake vortex encounter happens, then the probaility that it creates significant danger is:\n",
    "p_wake_vortex = p_HH*p_heavy*p_heavy + p_HL*p_heavy*p_large + p_HS*p_heavy*p_small + \\\n",
    "p_LH*p_large*p_heavy + p_LL*p_large*p_large + p_LS*p_large*p_small + \\\n",
    "p_SH*p_small*p_heavy + p_SL*p_small*p_large + p_SS*p_small*p_small\n",
    "print(p_wake_vortex)"
   ]
  },
  {
   "cell_type": "code",
   "execution_count": 5,
   "id": "aaf11fa6",
   "metadata": {},
   "outputs": [],
   "source": [
    "# P(2) minimum in-trail separation distance is failed to meet"
   ]
  },
  {
   "cell_type": "code",
   "execution_count": 6,
   "id": "add90523",
   "metadata": {},
   "outputs": [],
   "source": [
    "# Misidentification of leading or trailing aircraft\n",
    "p_1g = 2.69 * 10**(-4)\n",
    "p_1b = 2.69 * 10**(-4)\n",
    "# Aircraft misidentification leads to violation\n",
    "p_2g = 3.82 * 10**(-2)\n",
    "p_2b = 3.82 * 10**(-2)\n",
    "# Misestimate weather effects\n",
    "p_3g = 5.19 * 10**(-6)\n",
    "p_3b = 2.33 * 10**(-5)\n",
    "# Air traffic control fails to communicate on time\n",
    "p_4g = 6.24 * 10**(-5)\n",
    "p_4b = 6.24 * 10**(-5)\n",
    "# Pilot is unable to adjust speed of aircraft to desired level\n",
    "p_5g = 7.23 * 10**(-4)\n",
    "p_5b = 4.34 * 10**(-3)\n",
    "# Pilot is unable to communicate failure to adjust speed promptly back to air traffic control \n",
    "p_6g = 1.17 * 10**(-3)\n",
    "p_6b = 1.17 * 10**(-3)\n",
    "# Leading aircraft must pass its turn and go-around \n",
    "p_7g = 1.57 * 10**(-4)\n",
    "p_7b = 4.71 * 10**(-4)\n",
    "# Go-around ends up with separation violation \n",
    "p_8g = 2.01 * 10**(-2)\n",
    "p_8b = 2.01 * 10**(-2)\n",
    "# Air traffic control instrument will fail to detect separation violations\n",
    "p_9g = 1.95 * 10**(-3)\n",
    "p_9b = 1.95 * 10**(-3)"
   ]
  },
  {
   "cell_type": "code",
   "execution_count": 7,
   "id": "72c1a465",
   "metadata": {},
   "outputs": [
    {
     "name": "stdout",
     "output_type": "stream",
     "text": [
      "1.5964144950000004e-07\n"
     ]
    }
   ],
   "source": [
    "# under good weather \n",
    "p_in_trail_separation_distance_g = ((p_1g * p_2g + p_3g + p_4g) + \\\n",
    "(p_5g * p_6g) + (p_7g * p_8g)) * p_9g\n",
    "print(p_in_trail_separation_distance_g)"
   ]
  },
  {
   "cell_type": "code",
   "execution_count": 8,
   "id": "4eb20fbd",
   "metadata": {},
   "outputs": [
    {
     "name": "stdout",
     "output_type": "stream",
     "text": [
      "2.15515365e-07\n"
     ]
    }
   ],
   "source": [
    "# under bad weather \n",
    "p_in_trail_separation_distance_b = ((p_1b * p_2b + p_3b + p_4b) + \\\n",
    "(p_5b * p_6b) + (p_7b * p_8b)) * p_9b\n",
    "print(p_in_trail_separation_distance_b)"
   ]
  },
  {
   "cell_type": "code",
   "execution_count": 9,
   "id": "1b457b82",
   "metadata": {},
   "outputs": [],
   "source": [
    "# P(3) simultaneous runway occupancy"
   ]
  },
  {
   "cell_type": "code",
   "execution_count": 10,
   "id": "0ce83842",
   "metadata": {},
   "outputs": [],
   "source": [
    "# Equipment failure prevents lead aircraft from leaving runway\n",
    "p_10g = 5.12 * 10**(-6)\n",
    "p_10b = 5.12 * 10**(-6)\n",
    "# Lead aircraft cannot leave runway due to ground traffic congestion\n",
    "p_11g = 1.34 * 10**(-4)\n",
    "p_11b = 3.22 * 10**(-4)\n",
    "# Trailing aircraft unable to execute go-around because of insufficient reaction time \n",
    "p_12g = 1.4 * 10**(-3)\n",
    "p_12b = 8.7 * 10**(-3)\n",
    "# Trailing aircraft unable to execute go-around becuase of equipment or medical emergency\n",
    "p_13g = 8.36 * 10**(-4)\n",
    "p_13b = 8.36 * 10**(-4)"
   ]
  },
  {
   "cell_type": "code",
   "execution_count": 11,
   "id": "444aa8f0",
   "metadata": {},
   "outputs": [
    {
     "name": "stdout",
     "output_type": "stream",
     "text": [
      "3.1107232000000004e-07\n"
     ]
    }
   ],
   "source": [
    "# under good weather \n",
    "p_simultaneous_runway_g = (p_10g + p_11g) * (p_12g + p_13g)\n",
    "print(p_simultaneous_runway_g)"
   ]
  },
  {
   "cell_type": "code",
   "execution_count": 12,
   "id": "90b6e30b",
   "metadata": {},
   "outputs": [
    {
     "name": "stdout",
     "output_type": "stream",
     "text": [
      "3.11941632e-06\n"
     ]
    }
   ],
   "source": [
    "# under bad weather \n",
    "p_simultaneous_runway_b = (p_10b + p_11b) * (p_12b + p_13b)\n",
    "print(p_simultaneous_runway_b)"
   ]
  },
  {
   "cell_type": "code",
   "execution_count": 13,
   "id": "b268e4b0",
   "metadata": {},
   "outputs": [
    {
     "name": "stdout",
     "output_type": "stream",
     "text": [
      "4.0308294655092105e-07\n"
     ]
    }
   ],
   "source": [
    "# P_all\n",
    "p_accident_happen_g = p_wake_vortex * p_in_trail_separation_distance_g + p_simultaneous_runway_g\n",
    "print(p_accident_happen_g)"
   ]
  },
  {
   "cell_type": "code",
   "execution_count": 14,
   "id": "a6393ae7",
   "metadata": {},
   "outputs": [
    {
     "name": "stdout",
     "output_type": "stream",
     "text": [
      "3.2436303247406702e-06\n"
     ]
    }
   ],
   "source": [
    "p_accident_happen_b = p_wake_vortex * p_in_trail_separation_distance_b + p_simultaneous_runway_b\n",
    "print(p_accident_happen_b)"
   ]
  },
  {
   "cell_type": "code",
   "execution_count": 15,
   "id": "64fd89ea",
   "metadata": {},
   "outputs": [],
   "source": [
    "# Evaluating new technology "
   ]
  },
  {
   "cell_type": "code",
   "execution_count": 16,
   "id": "eebc98bf",
   "metadata": {},
   "outputs": [],
   "source": [
    "decrease_p = [0, 3.63 * 10**(-4), 4.68 * 10**(-4), 4.88 * 10**(-4), 4.94 * 10**(-4), 4.96 * 10**(-4), \\\n",
    "             5.03 * 10**(-4), 5.08 * 10**(-4), 5.11 * 10**(-4), 5.14 * 10**(-4), 5.17 * 10**(-4)]\n",
    "increase_p = [0, 1 * 10**(-6), 2 * 10**(-6), 3 * 10**(-6), 4 * 10**(-6), 5 * 10**(-6), \\\n",
    "             6 * 10**(-6), 7 * 10**(-6), 8 * 10**(-6), 9 * 10**(-6), 10 * 10**(-6)]"
   ]
  },
  {
   "cell_type": "code",
   "execution_count": 17,
   "id": "ce5184fd",
   "metadata": {},
   "outputs": [],
   "source": [
    "new_p_all_g = []\n",
    "new_p_all_b = []"
   ]
  },
  {
   "cell_type": "code",
   "execution_count": 18,
   "id": "ef3a4b3e",
   "metadata": {},
   "outputs": [],
   "source": [
    "for i in range(len(decrease_p)): \n",
    "    p_5g_new = p_5g - decrease_p[i]\n",
    "    p_5b_new = p_5g - decrease_p[i]\n",
    "    p_in_trail_separation_distance_g_new = ((p_1g * p_2g + p_3g + p_4g) + \\\n",
    "        (p_5g_new * p_6g) + (p_7g * p_8g)) * p_9g\n",
    "    p_in_trail_separation_distance_b_new = ((p_1b * p_2b + p_3b + p_4b) + \\\n",
    "        (p_5b_new * p_6b) + (p_7b * p_8b)) * p_9b\n",
    "    p_12g_new = p_12g + increase_p[i]\n",
    "    p_12b_new = p_12b + increase_p[i]\n",
    "    p_simultaneous_runway_g_new = (p_10g + p_11g) * (p_12g_new + p_13g)\n",
    "    p_simultaneous_runway_b_new = (p_10b + p_11b) * (p_12b_new + p_13b)\n",
    "    p_accident_happen_g_new = p_wake_vortex * p_in_trail_separation_distance_g_new + p_simultaneous_runway_g_new\n",
    "    p_accident_happen_b_new = p_wake_vortex * p_in_trail_separation_distance_b_new + p_simultaneous_runway_b_new\n",
    "    new_p_all_g.append(p_accident_happen_g_new)\n",
    "    new_p_all_b.append(p_accident_happen_b_new)"
   ]
  },
  {
   "cell_type": "code",
   "execution_count": 19,
   "id": "b3ebc097",
   "metadata": {
    "scrolled": false
   },
   "outputs": [
    {
     "name": "stdout",
     "output_type": "stream",
     "text": [
      "[4.0308294655092105e-07, 4.0274473578887e-07, 4.0274578490728503e-07, 4.0285860569174504e-07, 4.02989835927083e-07, 4.0312632600552906e-07, 4.032562412800901e-07, 4.0338878647620505e-07, 4.0352396159387404e-07, 4.03659136711543e-07, 4.03794311829212e-07]\n"
     ]
    }
   ],
   "source": [
    "print(new_p_all_g)"
   ]
  },
  {
   "cell_type": "code",
   "execution_count": 20,
   "id": "8255d44f",
   "metadata": {
    "scrolled": true
   },
   "outputs": [
    {
     "name": "stdout",
     "output_type": "stream",
     "text": [
      "[3.2388741116102612e-06, 3.23872390084821e-06, 3.238912949966625e-06, 3.239213770751085e-06, 3.239533000986423e-06, 3.2398574910648693e-06, 3.24017540633943e-06, 3.240495951535545e-06, 3.240819126653214e-06, 3.241142301770883e-06, 3.241465476888552e-06]\n"
     ]
    }
   ],
   "source": [
    "print(new_p_all_b)"
   ]
  },
  {
   "cell_type": "code",
   "execution_count": 21,
   "id": "9eb2a24d",
   "metadata": {},
   "outputs": [],
   "source": [
    "def merge_list(list_1, list_2, p1, p2):\n",
    "    new_list_1 = [x * p1 for x in list_1]\n",
    "    new_list_2 = [y * p2 for y in list_2]\n",
    "    result_list = [a + b for a, b in zip(new_list_1, new_list_2)]\n",
    "    return result_list"
   ]
  },
  {
   "cell_type": "code",
   "execution_count": 22,
   "id": "11878ca0",
   "metadata": {
    "scrolled": true
   },
   "outputs": [],
   "source": [
    "new_p_all = merge_list(new_p_all_g, new_p_all_b, 0.8, 0.2)"
   ]
  },
  {
   "cell_type": "code",
   "execution_count": 23,
   "id": "0153283c",
   "metadata": {
    "scrolled": false
   },
   "outputs": [
    {
     "name": "stdout",
     "output_type": "stream",
     "text": [
      "1\n"
     ]
    }
   ],
   "source": [
    "print(new_p_all.index(min(new_p_all)))"
   ]
  },
  {
   "cell_type": "code",
   "execution_count": 24,
   "id": "7f45147d",
   "metadata": {},
   "outputs": [
    {
     "data": {
      "text/plain": [
       "[9.70241179562789e-07,\n",
       " 9.69940568800738e-07,\n",
       " 9.69979217919153e-07,\n",
       " 9.70129638703613e-07,\n",
       " 9.70298468938951e-07,\n",
       " 9.704725590173972e-07,\n",
       " 9.706400742919582e-07,\n",
       " 9.70810219488073e-07,\n",
       " 9.70982994605742e-07,\n",
       " 9.711557697234111e-07,\n",
       " 9.713285448410801e-07]"
      ]
     },
     "execution_count": 24,
     "metadata": {},
     "output_type": "execute_result"
    }
   ],
   "source": [
    "new_p_all"
   ]
  },
  {
   "cell_type": "code",
   "execution_count": 25,
   "id": "305d323d",
   "metadata": {},
   "outputs": [],
   "source": [
    "new_p_all_test = merge_list(new_p_all_g, new_p_all_b, 0.01, 0.99)"
   ]
  },
  {
   "cell_type": "code",
   "execution_count": 26,
   "id": "739d3998",
   "metadata": {},
   "outputs": [
    {
     "name": "stdout",
     "output_type": "stream",
     "text": [
      "1\n"
     ]
    }
   ],
   "source": [
    "print(new_p_all_test.index(min(new_p_all_test)))"
   ]
  },
  {
   "cell_type": "code",
   "execution_count": 27,
   "id": "cf9d28a1",
   "metadata": {},
   "outputs": [
    {
     "data": {
      "text/plain": [
       "[3.2105161999596676e-06,\n",
       " 3.210364109197617e-06,\n",
       " 3.2105512783160317e-06,\n",
       " 3.210850219100491e-06,\n",
       " 3.2111675693358298e-06,\n",
       " 3.211490179414276e-06,\n",
       " 3.2118062146888366e-06,\n",
       " 3.2121248798849515e-06,\n",
       " 3.2124461750026206e-06,\n",
       " 3.2127674701202896e-06,\n",
       " 3.2130887652379582e-06]"
      ]
     },
     "execution_count": 27,
     "metadata": {},
     "output_type": "execute_result"
    }
   ],
   "source": [
    "new_p_all_test"
   ]
  },
  {
   "cell_type": "code",
   "execution_count": null,
   "id": "069bf04b",
   "metadata": {},
   "outputs": [],
   "source": []
  }
 ],
 "metadata": {
  "kernelspec": {
   "display_name": "Python 3 (ipykernel)",
   "language": "python",
   "name": "python3"
  },
  "language_info": {
   "codemirror_mode": {
    "name": "ipython",
    "version": 3
   },
   "file_extension": ".py",
   "mimetype": "text/x-python",
   "name": "python",
   "nbconvert_exporter": "python",
   "pygments_lexer": "ipython3",
   "version": "3.11.5"
  }
 },
 "nbformat": 4,
 "nbformat_minor": 5
}
