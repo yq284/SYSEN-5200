{
 "cells": [
  {
   "cell_type": "code",
   "execution_count": 117,
   "id": "d34ad250",
   "metadata": {},
   "outputs": [],
   "source": [
    "#ORIE 5741 Project Code"
   ]
  },
  {
   "cell_type": "code",
   "execution_count": 106,
   "id": "c88715fc",
   "metadata": {},
   "outputs": [],
   "source": [
    "# Import Packages\n",
    "import pandas as pd\n",
    "import numpy as np\n",
    "import matplotlib.pyplot as plt\n",
    "import seaborn as sns\n",
    "import re\n",
    "import time\n",
    "from sklearn.model_selection import StratifiedKFold\n",
    "from sklearn.model_selection import cross_val_score\n",
    "from sklearn.ensemble import RandomForestClassifier\n",
    "from sklearn.model_selection import GridSearchCV"
   ]
  },
  {
   "cell_type": "code",
   "execution_count": 3,
   "id": "b322a432",
   "metadata": {
    "scrolled": true
   },
   "outputs": [
    {
     "name": "stderr",
     "output_type": "stream",
     "text": [
      "/var/folders/j2/kn24rgbs61zdgt6q877h9x0c0000gn/T/ipykernel_85552/1885492614.py:2: DtypeWarning: Columns (0,13,22,28) have mixed types. Specify dtype option on import or set low_memory=False.\n",
      "  df = pd.read_csv(\"aviation_accident.csv\")\n"
     ]
    },
    {
     "data": {
      "text/html": [
       "<div>\n",
       "<style scoped>\n",
       "    .dataframe tbody tr th:only-of-type {\n",
       "        vertical-align: middle;\n",
       "    }\n",
       "\n",
       "    .dataframe tbody tr th {\n",
       "        vertical-align: top;\n",
       "    }\n",
       "\n",
       "    .dataframe thead th {\n",
       "        text-align: right;\n",
       "    }\n",
       "</style>\n",
       "<table border=\"1\" class=\"dataframe\">\n",
       "  <thead>\n",
       "    <tr style=\"text-align: right;\">\n",
       "      <th></th>\n",
       "      <th>Event.Id</th>\n",
       "      <th>Investigation.Type</th>\n",
       "      <th>Accident.Number</th>\n",
       "      <th>Event.Date</th>\n",
       "      <th>Location</th>\n",
       "      <th>Country</th>\n",
       "      <th>Airport.Code</th>\n",
       "      <th>Airport.Name</th>\n",
       "      <th>Injury.Severity</th>\n",
       "      <th>Aircraft.damage</th>\n",
       "      <th>...</th>\n",
       "      <th>Weather.Condition</th>\n",
       "      <th>Broad.phase.of.flight</th>\n",
       "      <th>Report.Status</th>\n",
       "      <th>Publication.Date</th>\n",
       "      <th>Year</th>\n",
       "      <th>Month.Abbr</th>\n",
       "      <th>Day.Name.Abbr</th>\n",
       "      <th>Weekend</th>\n",
       "      <th>City</th>\n",
       "      <th>State</th>\n",
       "    </tr>\n",
       "  </thead>\n",
       "  <tbody>\n",
       "    <tr>\n",
       "      <th>0</th>\n",
       "      <td>20020909X01562</td>\n",
       "      <td>Accident</td>\n",
       "      <td>SEA82DA022</td>\n",
       "      <td>1982-01-01</td>\n",
       "      <td>PULLMAN, WA</td>\n",
       "      <td>United States</td>\n",
       "      <td>NaN</td>\n",
       "      <td>BLACKBURN AG STRIP</td>\n",
       "      <td>Non-Fatal</td>\n",
       "      <td>Substantial</td>\n",
       "      <td>...</td>\n",
       "      <td>VMC</td>\n",
       "      <td>Takeoff</td>\n",
       "      <td>Probable Cause</td>\n",
       "      <td>01-01-1982</td>\n",
       "      <td>1982.0</td>\n",
       "      <td>Jan</td>\n",
       "      <td>Fri</td>\n",
       "      <td>False</td>\n",
       "      <td>PULLMAN</td>\n",
       "      <td>WA</td>\n",
       "    </tr>\n",
       "    <tr>\n",
       "      <th>1</th>\n",
       "      <td>20020909X01561</td>\n",
       "      <td>Accident</td>\n",
       "      <td>NYC82DA015</td>\n",
       "      <td>1982-01-01</td>\n",
       "      <td>EAST HANOVER, NJ</td>\n",
       "      <td>United States</td>\n",
       "      <td>N58</td>\n",
       "      <td>HANOVER</td>\n",
       "      <td>Non-Fatal</td>\n",
       "      <td>Substantial</td>\n",
       "      <td>...</td>\n",
       "      <td>IMC</td>\n",
       "      <td>Landing</td>\n",
       "      <td>Probable Cause</td>\n",
       "      <td>01-01-1982</td>\n",
       "      <td>1982.0</td>\n",
       "      <td>Jan</td>\n",
       "      <td>Fri</td>\n",
       "      <td>False</td>\n",
       "      <td>EAST HANOVER</td>\n",
       "      <td>NJ</td>\n",
       "    </tr>\n",
       "    <tr>\n",
       "      <th>2</th>\n",
       "      <td>20020909X01560</td>\n",
       "      <td>Accident</td>\n",
       "      <td>MIA82DA029</td>\n",
       "      <td>1982-01-01</td>\n",
       "      <td>JACKSONVILLE, FL</td>\n",
       "      <td>United States</td>\n",
       "      <td>JAX</td>\n",
       "      <td>JACKSONVILLE INTL</td>\n",
       "      <td>Non-Fatal</td>\n",
       "      <td>Substantial</td>\n",
       "      <td>...</td>\n",
       "      <td>IMC</td>\n",
       "      <td>Cruise</td>\n",
       "      <td>Probable Cause</td>\n",
       "      <td>01-01-1982</td>\n",
       "      <td>1982.0</td>\n",
       "      <td>Jan</td>\n",
       "      <td>Fri</td>\n",
       "      <td>False</td>\n",
       "      <td>JACKSONVILLE</td>\n",
       "      <td>FL</td>\n",
       "    </tr>\n",
       "    <tr>\n",
       "      <th>3</th>\n",
       "      <td>20020909X01559</td>\n",
       "      <td>Accident</td>\n",
       "      <td>FTW82DA034</td>\n",
       "      <td>1982-01-01</td>\n",
       "      <td>HOBBS, NM</td>\n",
       "      <td>United States</td>\n",
       "      <td>NaN</td>\n",
       "      <td>NaN</td>\n",
       "      <td>Non-Fatal</td>\n",
       "      <td>Substantial</td>\n",
       "      <td>...</td>\n",
       "      <td>VMC</td>\n",
       "      <td>Approach</td>\n",
       "      <td>Probable Cause</td>\n",
       "      <td>01-01-1982</td>\n",
       "      <td>1982.0</td>\n",
       "      <td>Jan</td>\n",
       "      <td>Fri</td>\n",
       "      <td>False</td>\n",
       "      <td>HOBBS</td>\n",
       "      <td>NM</td>\n",
       "    </tr>\n",
       "    <tr>\n",
       "      <th>4</th>\n",
       "      <td>20020909X01558</td>\n",
       "      <td>Accident</td>\n",
       "      <td>ATL82DKJ10</td>\n",
       "      <td>1982-01-01</td>\n",
       "      <td>TUSKEGEE, AL</td>\n",
       "      <td>United States</td>\n",
       "      <td>NaN</td>\n",
       "      <td>TUSKEGEE</td>\n",
       "      <td>Non-Fatal</td>\n",
       "      <td>Substantial</td>\n",
       "      <td>...</td>\n",
       "      <td>VMC</td>\n",
       "      <td>Landing</td>\n",
       "      <td>Probable Cause</td>\n",
       "      <td>01-01-1982</td>\n",
       "      <td>1982.0</td>\n",
       "      <td>Jan</td>\n",
       "      <td>Fri</td>\n",
       "      <td>False</td>\n",
       "      <td>TUSKEGEE</td>\n",
       "      <td>AL</td>\n",
       "    </tr>\n",
       "  </tbody>\n",
       "</table>\n",
       "<p>5 rows × 31 columns</p>\n",
       "</div>"
      ],
      "text/plain": [
       "         Event.Id Investigation.Type Accident.Number  Event.Date  \\\n",
       "0  20020909X01562           Accident      SEA82DA022  1982-01-01   \n",
       "1  20020909X01561           Accident      NYC82DA015  1982-01-01   \n",
       "2  20020909X01560           Accident      MIA82DA029  1982-01-01   \n",
       "3  20020909X01559           Accident      FTW82DA034  1982-01-01   \n",
       "4  20020909X01558           Accident      ATL82DKJ10  1982-01-01   \n",
       "\n",
       "           Location        Country Airport.Code        Airport.Name  \\\n",
       "0       PULLMAN, WA  United States          NaN  BLACKBURN AG STRIP   \n",
       "1  EAST HANOVER, NJ  United States          N58             HANOVER   \n",
       "2  JACKSONVILLE, FL  United States          JAX   JACKSONVILLE INTL   \n",
       "3         HOBBS, NM  United States          NaN                 NaN   \n",
       "4      TUSKEGEE, AL  United States          NaN            TUSKEGEE   \n",
       "\n",
       "  Injury.Severity Aircraft.damage  ... Weather.Condition  \\\n",
       "0       Non-Fatal     Substantial  ...               VMC   \n",
       "1       Non-Fatal     Substantial  ...               IMC   \n",
       "2       Non-Fatal     Substantial  ...               IMC   \n",
       "3       Non-Fatal     Substantial  ...               VMC   \n",
       "4       Non-Fatal     Substantial  ...               VMC   \n",
       "\n",
       "  Broad.phase.of.flight   Report.Status Publication.Date    Year Month.Abbr  \\\n",
       "0               Takeoff  Probable Cause       01-01-1982  1982.0        Jan   \n",
       "1               Landing  Probable Cause       01-01-1982  1982.0        Jan   \n",
       "2                Cruise  Probable Cause       01-01-1982  1982.0        Jan   \n",
       "3              Approach  Probable Cause       01-01-1982  1982.0        Jan   \n",
       "4               Landing  Probable Cause       01-01-1982  1982.0        Jan   \n",
       "\n",
       "  Day.Name.Abbr  Weekend          City  State  \n",
       "0           Fri    False       PULLMAN     WA  \n",
       "1           Fri    False  EAST HANOVER     NJ  \n",
       "2           Fri    False  JACKSONVILLE     FL  \n",
       "3           Fri    False         HOBBS     NM  \n",
       "4           Fri    False      TUSKEGEE     AL  \n",
       "\n",
       "[5 rows x 31 columns]"
      ]
     },
     "execution_count": 3,
     "metadata": {},
     "output_type": "execute_result"
    }
   ],
   "source": [
    "# Data and EDA\n",
    "df = pd.read_csv(\"aviation_accident.csv\")\n",
    "df.head()"
   ]
  },
  {
   "cell_type": "code",
   "execution_count": 4,
   "id": "de5e3d37",
   "metadata": {
    "scrolled": true
   },
   "outputs": [
    {
     "name": "stdout",
     "output_type": "stream",
     "text": [
      "<class 'pandas.core.frame.DataFrame'>\n",
      "RangeIndex: 68565 entries, 0 to 68564\n",
      "Data columns (total 31 columns):\n",
      " #   Column                  Non-Null Count  Dtype  \n",
      "---  ------                  --------------  -----  \n",
      " 0   Event.Id                67128 non-null  object \n",
      " 1   Investigation.Type      68565 non-null  object \n",
      " 2   Accident.Number         68565 non-null  object \n",
      " 3   Event.Date              68565 non-null  object \n",
      " 4   Location                68561 non-null  object \n",
      " 5   Country                 68565 non-null  object \n",
      " 6   Airport.Code            40695 non-null  object \n",
      " 7   Airport.Name            43033 non-null  object \n",
      " 8   Injury.Severity         67076 non-null  object \n",
      " 9   Aircraft.damage         66209 non-null  object \n",
      " 10  Registration.Number     67127 non-null  object \n",
      " 11  Make                    67119 non-null  object \n",
      " 12  Model                   67105 non-null  object \n",
      " 13  Amateur.Built           67127 non-null  object \n",
      " 14  Number.of.Engines       65501 non-null  float64\n",
      " 15  Engine.Type             64565 non-null  object \n",
      " 16  Purpose.of.flight       66009 non-null  object \n",
      " 17  Total.Fatal.Injuries    67128 non-null  float64\n",
      " 18  Total.Serious.Injuries  67128 non-null  float64\n",
      " 19  Total.Minor.Injuries    67128 non-null  float64\n",
      " 20  Total.Uninjured         67128 non-null  float64\n",
      " 21  Weather.Condition       66601 non-null  object \n",
      " 22  Broad.phase.of.flight   46535 non-null  object \n",
      " 23  Report.Status           64563 non-null  object \n",
      " 24  Publication.Date        53474 non-null  object \n",
      " 25  Year                    65691 non-null  float64\n",
      " 26  Month.Abbr              65691 non-null  object \n",
      " 27  Day.Name.Abbr           65691 non-null  object \n",
      " 28  Weekend                 65691 non-null  object \n",
      " 29  City                    65683 non-null  object \n",
      " 30  State                   65635 non-null  object \n",
      "dtypes: float64(6), object(25)\n",
      "memory usage: 16.2+ MB\n"
     ]
    }
   ],
   "source": [
    "df.info()"
   ]
  },
  {
   "cell_type": "code",
   "execution_count": 5,
   "id": "d8e25527",
   "metadata": {
    "scrolled": true
   },
   "outputs": [
    {
     "data": {
      "text/plain": [
       "Event.Id                   1437\n",
       "Investigation.Type            0\n",
       "Accident.Number               0\n",
       "Event.Date                    0\n",
       "Location                      4\n",
       "Country                       0\n",
       "Airport.Code              27870\n",
       "Airport.Name              25532\n",
       "Injury.Severity            1489\n",
       "Aircraft.damage            2356\n",
       "Registration.Number        1438\n",
       "Make                       1446\n",
       "Model                      1460\n",
       "Amateur.Built              1438\n",
       "Number.of.Engines          3064\n",
       "Engine.Type                4000\n",
       "Purpose.of.flight          2556\n",
       "Total.Fatal.Injuries       1437\n",
       "Total.Serious.Injuries     1437\n",
       "Total.Minor.Injuries       1437\n",
       "Total.Uninjured            1437\n",
       "Weather.Condition          1964\n",
       "Broad.phase.of.flight     22030\n",
       "Report.Status              4002\n",
       "Publication.Date          15091\n",
       "Year                       2874\n",
       "Month.Abbr                 2874\n",
       "Day.Name.Abbr              2874\n",
       "Weekend                    2874\n",
       "City                       2882\n",
       "State                      2930\n",
       "dtype: int64"
      ]
     },
     "execution_count": 5,
     "metadata": {},
     "output_type": "execute_result"
    }
   ],
   "source": [
    "df.isna().sum()"
   ]
  },
  {
   "cell_type": "code",
   "execution_count": 6,
   "id": "29ce408e",
   "metadata": {},
   "outputs": [],
   "source": [
    "# Key Observations"
   ]
  },
  {
   "cell_type": "code",
   "execution_count": 7,
   "id": "3fa659cc",
   "metadata": {
    "scrolled": true
   },
   "outputs": [
    {
     "data": {
      "image/png": "[encoded data removed]",
      "text/plain": [
       "<Figure size 640x480 with 1 Axes>"
      ]
     },
     "metadata": {},
     "output_type": "display_data"
    },
    {
     "data": {
      "text/plain": [
       "<Figure size 600x600 with 0 Axes>"
      ]
     },
     "metadata": {},
     "output_type": "display_data"
    }
   ],
   "source": [
    "# What are the trends of the occurrence of aviation accidents over the years\n",
    "df_year_dropped = df['Year'].dropna()\n",
    "\n",
    "sns.histplot(df_year_dropped, bins=30, kde=True, color='blue')\n",
    "\n",
    "plt.xlabel('Year')  # X-axis label\n",
    "plt.ylabel('Number of Occurrence of Accidents')      # Y-axis label\n",
    "plt.title('Trends of the Occurence of Accidents over the Years')  # Title of the histogram\n",
    "plt.figure(figsize=(6, 6))\n",
    "\n",
    "plt.show()\n"
   ]
  },
  {
   "cell_type": "markdown",
   "id": "1f384767",
   "metadata": {},
   "source": [
    "There's a pronounced peak in the number of accidents in the early 1980s. This suggests that during this period, accidents were more frequent than in later years. Following the initial peak, there's a notable decline in the number of accidents that continues until around the 2020. And also notice that with every 2 or 3 years, there is peak of the number of accidents."
   ]
  },
  {
   "cell_type": "code",
   "execution_count": 8,
   "id": "cf9fedc6",
   "metadata": {},
   "outputs": [],
   "source": [
    "# What are the average survival rates in each year?"
   ]
  },
  {
   "cell_type": "code",
   "execution_count": 9,
   "id": "e82a9dbf",
   "metadata": {},
   "outputs": [
    {
     "data": {
      "text/html": [
       "<div>\n",
       "<style scoped>\n",
       "    .dataframe tbody tr th:only-of-type {\n",
       "        vertical-align: middle;\n",
       "    }\n",
       "\n",
       "    .dataframe tbody tr th {\n",
       "        vertical-align: top;\n",
       "    }\n",
       "\n",
       "    .dataframe thead th {\n",
       "        text-align: right;\n",
       "    }\n",
       "</style>\n",
       "<table border=\"1\" class=\"dataframe\">\n",
       "  <thead>\n",
       "    <tr style=\"text-align: right;\">\n",
       "      <th></th>\n",
       "      <th>Total.Fatal.Injuries</th>\n",
       "      <th>Total.Serious.Injuries</th>\n",
       "      <th>Total.Minor.Injuries</th>\n",
       "      <th>Total.Uninjured</th>\n",
       "    </tr>\n",
       "  </thead>\n",
       "  <tbody>\n",
       "    <tr>\n",
       "      <th>0</th>\n",
       "      <td>0.0</td>\n",
       "      <td>0.0</td>\n",
       "      <td>0.0</td>\n",
       "      <td>2.0</td>\n",
       "    </tr>\n",
       "    <tr>\n",
       "      <th>1</th>\n",
       "      <td>0.0</td>\n",
       "      <td>0.0</td>\n",
       "      <td>0.0</td>\n",
       "      <td>2.0</td>\n",
       "    </tr>\n",
       "    <tr>\n",
       "      <th>2</th>\n",
       "      <td>0.0</td>\n",
       "      <td>0.0</td>\n",
       "      <td>3.0</td>\n",
       "      <td>0.0</td>\n",
       "    </tr>\n",
       "    <tr>\n",
       "      <th>3</th>\n",
       "      <td>0.0</td>\n",
       "      <td>0.0</td>\n",
       "      <td>0.0</td>\n",
       "      <td>1.0</td>\n",
       "    </tr>\n",
       "    <tr>\n",
       "      <th>4</th>\n",
       "      <td>0.0</td>\n",
       "      <td>0.0</td>\n",
       "      <td>0.0</td>\n",
       "      <td>1.0</td>\n",
       "    </tr>\n",
       "  </tbody>\n",
       "</table>\n",
       "</div>"
      ],
      "text/plain": [
       "   Total.Fatal.Injuries  Total.Serious.Injuries  Total.Minor.Injuries  \\\n",
       "0                   0.0                     0.0                   0.0   \n",
       "1                   0.0                     0.0                   0.0   \n",
       "2                   0.0                     0.0                   3.0   \n",
       "3                   0.0                     0.0                   0.0   \n",
       "4                   0.0                     0.0                   0.0   \n",
       "\n",
       "   Total.Uninjured  \n",
       "0              2.0  \n",
       "1              2.0  \n",
       "2              0.0  \n",
       "3              1.0  \n",
       "4              1.0  "
      ]
     },
     "execution_count": 9,
     "metadata": {},
     "output_type": "execute_result"
    }
   ],
   "source": [
    "# Check the columns related with the number of poeple invovled in each accident \n",
    "df_survival = df[['Total.Fatal.Injuries', 'Total.Serious.Injuries', 'Total.Minor.Injuries', 'Total.Uninjured']]\n",
    "df_survival.head()"
   ]
  },
  {
   "cell_type": "code",
   "execution_count": 10,
   "id": "9a217d4e",
   "metadata": {},
   "outputs": [
    {
     "data": {
      "text/plain": [
       "Total.Fatal.Injuries       24750.0\n",
       "Total.Serious.Injuries     15676.0\n",
       "Total.Minor.Injuries       19318.0\n",
       "Total.Uninjured           164046.0\n",
       "dtype: float64"
      ]
     },
     "execution_count": 10,
     "metadata": {},
     "output_type": "execute_result"
    }
   ],
   "source": [
    "df_survival.sum()"
   ]
  },
  {
   "cell_type": "code",
   "execution_count": 11,
   "id": "a05c59d8",
   "metadata": {},
   "outputs": [],
   "source": [
    "# Calculate total people involved in each accident\n",
    "df['Total_People'] = df['Total.Fatal.Injuries'] + df['Total.Serious.Injuries'] + df['Total.Minor.Injuries'] + df['Total.Uninjured']\n",
    "\n",
    "# Calculate the number of survivors (assuming survival means no fatal injuries)\n",
    "df['Survivors'] = df['Total.Serious.Injuries'] + df['Total.Minor.Injuries'] + df['Total.Uninjured']\n",
    "\n",
    "# Calculate survival rate for each accident\n",
    "df['Survival.Rate'] = df['Survivors'] / df['Total_People']\n",
    "\n",
    "# Calculate average survival rate by year\n",
    "average_survival_by_year = df.groupby('Year')['Survival.Rate'].mean()\n"
   ]
  },
  {
   "cell_type": "code",
   "execution_count": 12,
   "id": "65cec9f4",
   "metadata": {},
   "outputs": [
    {
     "data": {
      "text/html": [
       "<div>\n",
       "<style scoped>\n",
       "    .dataframe tbody tr th:only-of-type {\n",
       "        vertical-align: middle;\n",
       "    }\n",
       "\n",
       "    .dataframe tbody tr th {\n",
       "        vertical-align: top;\n",
       "    }\n",
       "\n",
       "    .dataframe thead th {\n",
       "        text-align: right;\n",
       "    }\n",
       "</style>\n",
       "<table border=\"1\" class=\"dataframe\">\n",
       "  <thead>\n",
       "    <tr style=\"text-align: right;\">\n",
       "      <th></th>\n",
       "      <th>Year</th>\n",
       "      <th>Survival Rate</th>\n",
       "    </tr>\n",
       "  </thead>\n",
       "  <tbody>\n",
       "    <tr>\n",
       "      <th>0</th>\n",
       "      <td>1982.0</td>\n",
       "      <td>0.834367</td>\n",
       "    </tr>\n",
       "    <tr>\n",
       "      <th>1</th>\n",
       "      <td>1983.0</td>\n",
       "      <td>0.826339</td>\n",
       "    </tr>\n",
       "    <tr>\n",
       "      <th>2</th>\n",
       "      <td>1984.0</td>\n",
       "      <td>0.827713</td>\n",
       "    </tr>\n",
       "    <tr>\n",
       "      <th>3</th>\n",
       "      <td>1985.0</td>\n",
       "      <td>0.833189</td>\n",
       "    </tr>\n",
       "    <tr>\n",
       "      <th>4</th>\n",
       "      <td>1986.0</td>\n",
       "      <td>0.834124</td>\n",
       "    </tr>\n",
       "  </tbody>\n",
       "</table>\n",
       "</div>"
      ],
      "text/plain": [
       "     Year  Survival Rate\n",
       "0  1982.0       0.834367\n",
       "1  1983.0       0.826339\n",
       "2  1984.0       0.827713\n",
       "3  1985.0       0.833189\n",
       "4  1986.0       0.834124"
      ]
     },
     "execution_count": 12,
     "metadata": {},
     "output_type": "execute_result"
    }
   ],
   "source": [
    "average_survival_by_year = pd.DataFrame(average_survival_by_year)\n",
    "average_survival_by_year = average_survival_by_year.reset_index()\n",
    "average_survival_by_year.columns = ['Year', 'Survival Rate']\n",
    "average_survival_by_year.head()"
   ]
  },
  {
   "cell_type": "code",
   "execution_count": 13,
   "id": "f0f5a4cb",
   "metadata": {},
   "outputs": [
    {
     "data": {
      "text/html": [
       "<div>\n",
       "<style scoped>\n",
       "    .dataframe tbody tr th:only-of-type {\n",
       "        vertical-align: middle;\n",
       "    }\n",
       "\n",
       "    .dataframe tbody tr th {\n",
       "        vertical-align: top;\n",
       "    }\n",
       "\n",
       "    .dataframe thead th {\n",
       "        text-align: right;\n",
       "    }\n",
       "</style>\n",
       "<table border=\"1\" class=\"dataframe\">\n",
       "  <thead>\n",
       "    <tr style=\"text-align: right;\">\n",
       "      <th></th>\n",
       "      <th>Year</th>\n",
       "      <th>Survival Rate</th>\n",
       "    </tr>\n",
       "  </thead>\n",
       "  <tbody>\n",
       "    <tr>\n",
       "      <th>0</th>\n",
       "      <td>1982</td>\n",
       "      <td>0.834</td>\n",
       "    </tr>\n",
       "    <tr>\n",
       "      <th>1</th>\n",
       "      <td>1983</td>\n",
       "      <td>0.826</td>\n",
       "    </tr>\n",
       "    <tr>\n",
       "      <th>2</th>\n",
       "      <td>1984</td>\n",
       "      <td>0.828</td>\n",
       "    </tr>\n",
       "    <tr>\n",
       "      <th>3</th>\n",
       "      <td>1985</td>\n",
       "      <td>0.833</td>\n",
       "    </tr>\n",
       "    <tr>\n",
       "      <th>4</th>\n",
       "      <td>1986</td>\n",
       "      <td>0.834</td>\n",
       "    </tr>\n",
       "  </tbody>\n",
       "</table>\n",
       "</div>"
      ],
      "text/plain": [
       "   Year  Survival Rate\n",
       "0  1982          0.834\n",
       "1  1983          0.826\n",
       "2  1984          0.828\n",
       "3  1985          0.833\n",
       "4  1986          0.834"
      ]
     },
     "execution_count": 13,
     "metadata": {},
     "output_type": "execute_result"
    }
   ],
   "source": [
    "average_survival_by_year['Year'] = average_survival_by_year['Year'].round().astype(int)\n",
    "average_survival_by_year['Survival Rate'] = average_survival_by_year['Survival Rate'].round(3)\n",
    "average_survival_by_year.head()"
   ]
  },
  {
   "cell_type": "code",
   "execution_count": 14,
   "id": "bc56e57e",
   "metadata": {},
   "outputs": [
    {
     "data": {
      "image/png": "[encoded data removed]",
      "text/plain": [
       "<Figure size 640x480 with 1 Axes>"
      ]
     },
     "metadata": {},
     "output_type": "display_data"
    }
   ],
   "source": [
    "plt.plot(average_survival_by_year['Year'], average_survival_by_year['Survival Rate'])\n",
    "\n",
    "plt.xlabel('Year')  # X-axis label\n",
    "plt.ylabel('Average Survival Rate')      # Y-axis label\n",
    "plt.title('Average Survival Rate over the Years')  # Title of the histogram\n",
    "\n",
    "plt.show()"
   ]
  },
  {
   "cell_type": "code",
   "execution_count": 15,
   "id": "f2040d15",
   "metadata": {
    "scrolled": true
   },
   "outputs": [
    {
     "data": {
      "image/png": "[encoded data removed]",
      "text/plain": [
       "<Figure size 640x480 with 1 Axes>"
      ]
     },
     "metadata": {},
     "output_type": "display_data"
    },
    {
     "data": {
      "text/plain": [
       "<Figure size 600x600 with 0 Axes>"
      ]
     },
     "metadata": {},
     "output_type": "display_data"
    }
   ],
   "source": [
    "# Which phase of flight do most accidents occur?\n",
    "plt.xticks(rotation=90)\n",
    "sns.histplot(df[\"Broad.phase.of.flight\"], bins=12, kde=False, color='blue')\n",
    "\n",
    "plt.figure(figsize=(6, 6))\n",
    "plt.show()\n",
    "\n",
    "# Most accident tended to happen in the landing phase of flight."
   ]
  },
  {
   "cell_type": "code",
   "execution_count": 16,
   "id": "e81ad7da",
   "metadata": {},
   "outputs": [
    {
     "data": {
      "image/png": "[encoded data removed]",
      "text/plain": [
       "<Figure size 1200x800 with 1 Axes>"
      ]
     },
     "metadata": {},
     "output_type": "display_data"
    },
    {
     "data": {
      "text/plain": [
       "<Figure size 640x480 with 0 Axes>"
      ]
     },
     "metadata": {},
     "output_type": "display_data"
    }
   ],
   "source": [
    "# Which model do most accidents occur?\n",
    "# Calculate the count of incidents for each model and get the top ten models with the largest number of incidents\n",
    "top_models_by_incidents = df['Model'].value_counts().head(10)\n",
    "\n",
    "# Plotting the top ten models by number of incidents\n",
    "plt.figure(figsize=(12, 8))\n",
    "top_models_by_incidents.plot(kind='bar', color='blue')\n",
    "plt.title('Top Ten Aircraft Models by Number of Accidents')\n",
    "plt.xlabel('Aircraft Model')\n",
    "plt.ylabel('Number of Accidents')\n",
    "plt.xticks(rotation=45)\n",
    "plt.show()\n",
    "\n",
    "plt.savefig('Top_Ten_Aircraft_Models.png', format='png', dpi=300)"
   ]
  },
  {
   "cell_type": "code",
   "execution_count": 17,
   "id": "e0947c72",
   "metadata": {},
   "outputs": [],
   "source": [
    "# Feature Engineering "
   ]
  },
  {
   "cell_type": "code",
   "execution_count": 18,
   "id": "2383ce24",
   "metadata": {
    "scrolled": true
   },
   "outputs": [
    {
     "data": {
      "text/html": [
       "<div>\n",
       "<style scoped>\n",
       "    .dataframe tbody tr th:only-of-type {\n",
       "        vertical-align: middle;\n",
       "    }\n",
       "\n",
       "    .dataframe tbody tr th {\n",
       "        vertical-align: top;\n",
       "    }\n",
       "\n",
       "    .dataframe thead th {\n",
       "        text-align: right;\n",
       "    }\n",
       "</style>\n",
       "<table border=\"1\" class=\"dataframe\">\n",
       "  <thead>\n",
       "    <tr style=\"text-align: right;\">\n",
       "      <th></th>\n",
       "      <th>Event.Id</th>\n",
       "      <th>Accident.Number</th>\n",
       "      <th>Registration.Number</th>\n",
       "    </tr>\n",
       "  </thead>\n",
       "  <tbody>\n",
       "    <tr>\n",
       "      <th>0</th>\n",
       "      <td>20020909X01562</td>\n",
       "      <td>SEA82DA022</td>\n",
       "      <td>N2482N</td>\n",
       "    </tr>\n",
       "    <tr>\n",
       "      <th>1</th>\n",
       "      <td>20020909X01561</td>\n",
       "      <td>NYC82DA015</td>\n",
       "      <td>N7967Q</td>\n",
       "    </tr>\n",
       "    <tr>\n",
       "      <th>2</th>\n",
       "      <td>20020909X01560</td>\n",
       "      <td>MIA82DA029</td>\n",
       "      <td>N3906K</td>\n",
       "    </tr>\n",
       "    <tr>\n",
       "      <th>3</th>\n",
       "      <td>20020909X01559</td>\n",
       "      <td>FTW82DA034</td>\n",
       "      <td>N44832</td>\n",
       "    </tr>\n",
       "    <tr>\n",
       "      <th>4</th>\n",
       "      <td>20020909X01558</td>\n",
       "      <td>ATL82DKJ10</td>\n",
       "      <td>N4275S</td>\n",
       "    </tr>\n",
       "  </tbody>\n",
       "</table>\n",
       "</div>"
      ],
      "text/plain": [
       "         Event.Id Accident.Number Registration.Number\n",
       "0  20020909X01562      SEA82DA022              N2482N\n",
       "1  20020909X01561      NYC82DA015              N7967Q\n",
       "2  20020909X01560      MIA82DA029              N3906K\n",
       "3  20020909X01559      FTW82DA034              N44832\n",
       "4  20020909X01558      ATL82DKJ10              N4275S"
      ]
     },
     "execution_count": 18,
     "metadata": {},
     "output_type": "execute_result"
    }
   ],
   "source": [
    "# Data Preprocessing – Dropping column with no predictive power\n",
    "df_basic = df\n",
    "df_basic[['Event.Id', 'Accident.Number', 'Registration.Number']].head()"
   ]
  },
  {
   "cell_type": "code",
   "execution_count": 19,
   "id": "c7add925",
   "metadata": {
    "scrolled": true
   },
   "outputs": [],
   "source": [
    "# The following columns are unique identifiers of the accident and provide no predictive power. \n",
    "# We will drop them. \n",
    "df_basic = df_basic.drop(columns=['Event.Id', 'Accident.Number', 'Registration.Number'])"
   ]
  },
  {
   "cell_type": "code",
   "execution_count": 20,
   "id": "2b1a6eb5",
   "metadata": {},
   "outputs": [
    {
     "data": {
      "text/html": [
       "<div>\n",
       "<style scoped>\n",
       "    .dataframe tbody tr th:only-of-type {\n",
       "        vertical-align: middle;\n",
       "    }\n",
       "\n",
       "    .dataframe tbody tr th {\n",
       "        vertical-align: top;\n",
       "    }\n",
       "\n",
       "    .dataframe thead th {\n",
       "        text-align: right;\n",
       "    }\n",
       "</style>\n",
       "<table border=\"1\" class=\"dataframe\">\n",
       "  <thead>\n",
       "    <tr style=\"text-align: right;\">\n",
       "      <th></th>\n",
       "      <th>Investigation.Type</th>\n",
       "      <th>Report.Status</th>\n",
       "    </tr>\n",
       "  </thead>\n",
       "  <tbody>\n",
       "    <tr>\n",
       "      <th>0</th>\n",
       "      <td>Accident</td>\n",
       "      <td>Probable Cause</td>\n",
       "    </tr>\n",
       "    <tr>\n",
       "      <th>1</th>\n",
       "      <td>Accident</td>\n",
       "      <td>Probable Cause</td>\n",
       "    </tr>\n",
       "    <tr>\n",
       "      <th>2</th>\n",
       "      <td>Accident</td>\n",
       "      <td>Probable Cause</td>\n",
       "    </tr>\n",
       "    <tr>\n",
       "      <th>3</th>\n",
       "      <td>Accident</td>\n",
       "      <td>Probable Cause</td>\n",
       "    </tr>\n",
       "    <tr>\n",
       "      <th>4</th>\n",
       "      <td>Accident</td>\n",
       "      <td>Probable Cause</td>\n",
       "    </tr>\n",
       "  </tbody>\n",
       "</table>\n",
       "</div>"
      ],
      "text/plain": [
       "  Investigation.Type   Report.Status\n",
       "0           Accident  Probable Cause\n",
       "1           Accident  Probable Cause\n",
       "2           Accident  Probable Cause\n",
       "3           Accident  Probable Cause\n",
       "4           Accident  Probable Cause"
      ]
     },
     "execution_count": 20,
     "metadata": {},
     "output_type": "execute_result"
    }
   ],
   "source": [
    "df_basic[['Investigation.Type', 'Report.Status']].head()\n",
    "# The following columns are administrative details, which are not predictive of accident outcomes.\n",
    "# We will drop them"
   ]
  },
  {
   "cell_type": "code",
   "execution_count": 21,
   "id": "36b265ac",
   "metadata": {},
   "outputs": [],
   "source": [
    "df_basic = df_basic.drop(columns=['Investigation.Type', 'Report.Status'])"
   ]
  },
  {
   "cell_type": "code",
   "execution_count": 22,
   "id": "74ba7904",
   "metadata": {},
   "outputs": [
    {
     "data": {
      "text/html": [
       "<div>\n",
       "<style scoped>\n",
       "    .dataframe tbody tr th:only-of-type {\n",
       "        vertical-align: middle;\n",
       "    }\n",
       "\n",
       "    .dataframe tbody tr th {\n",
       "        vertical-align: top;\n",
       "    }\n",
       "\n",
       "    .dataframe thead th {\n",
       "        text-align: right;\n",
       "    }\n",
       "</style>\n",
       "<table border=\"1\" class=\"dataframe\">\n",
       "  <thead>\n",
       "    <tr style=\"text-align: right;\">\n",
       "      <th></th>\n",
       "      <th>Event.Date</th>\n",
       "      <th>Publication.Date</th>\n",
       "    </tr>\n",
       "  </thead>\n",
       "  <tbody>\n",
       "    <tr>\n",
       "      <th>0</th>\n",
       "      <td>1982-01-01</td>\n",
       "      <td>01-01-1982</td>\n",
       "    </tr>\n",
       "    <tr>\n",
       "      <th>1</th>\n",
       "      <td>1982-01-01</td>\n",
       "      <td>01-01-1982</td>\n",
       "    </tr>\n",
       "    <tr>\n",
       "      <th>2</th>\n",
       "      <td>1982-01-01</td>\n",
       "      <td>01-01-1982</td>\n",
       "    </tr>\n",
       "    <tr>\n",
       "      <th>3</th>\n",
       "      <td>1982-01-01</td>\n",
       "      <td>01-01-1982</td>\n",
       "    </tr>\n",
       "    <tr>\n",
       "      <th>4</th>\n",
       "      <td>1982-01-01</td>\n",
       "      <td>01-01-1982</td>\n",
       "    </tr>\n",
       "  </tbody>\n",
       "</table>\n",
       "</div>"
      ],
      "text/plain": [
       "   Event.Date Publication.Date\n",
       "0  1982-01-01       01-01-1982\n",
       "1  1982-01-01       01-01-1982\n",
       "2  1982-01-01       01-01-1982\n",
       "3  1982-01-01       01-01-1982\n",
       "4  1982-01-01       01-01-1982"
      ]
     },
     "execution_count": 22,
     "metadata": {},
     "output_type": "execute_result"
    }
   ],
   "source": [
    "df_basic[['Event.Date', 'Publication.Date']].head()\n",
    "# The following columns are days that th event happened, which is not helpful. \n",
    "# We will drop them"
   ]
  },
  {
   "cell_type": "code",
   "execution_count": 23,
   "id": "3e95aef2",
   "metadata": {},
   "outputs": [],
   "source": [
    "# We will first frop the Publicaiton.Data columns. At this moment we still\n",
    "# need the Event.Data column to help us fill in the missing data in the \n",
    "# columns \"Year\", \"Month\", and \"Day.Name.Abbr\"\n",
    "df_basic = df_basic.drop(columns=['Publication.Date'])"
   ]
  },
  {
   "cell_type": "code",
   "execution_count": 24,
   "id": "04807377",
   "metadata": {
    "scrolled": false
   },
   "outputs": [
    {
     "data": {
      "text/plain": [
       "Location       4\n",
       "Country        0\n",
       "City        2882\n",
       "State       2930\n",
       "dtype: int64"
      ]
     },
     "execution_count": 24,
     "metadata": {},
     "output_type": "execute_result"
    }
   ],
   "source": [
    "df_basic[['Location', 'Country', 'City', 'State']].isnull().sum()\n",
    "# The following columns are geographic data that might have some insights. But without further information, \n",
    "# it is hard to utilize these data. We will drop them."
   ]
  },
  {
   "cell_type": "code",
   "execution_count": 25,
   "id": "31d2cb85",
   "metadata": {},
   "outputs": [
    {
     "data": {
      "text/plain": [
       "Location\n",
       "ANCHORAGE, AK        332\n",
       "Sat                  272\n",
       "Fri                  227\n",
       "Sun                  208\n",
       "Thu                  207\n",
       "                    ... \n",
       "CINNIBAR, AK           1\n",
       "CRESCENT LAKE, AK      1\n",
       "WILMONT, AR            1\n",
       "FT. PAYNE, AL          1\n",
       "Auburn Hills, MI       1\n",
       "Name: count, Length: 20964, dtype: int64"
      ]
     },
     "execution_count": 25,
     "metadata": {},
     "output_type": "execute_result"
    }
   ],
   "source": [
    "df_basic['Location'].value_counts()"
   ]
  },
  {
   "cell_type": "code",
   "execution_count": 26,
   "id": "19266dce",
   "metadata": {},
   "outputs": [],
   "source": [
    "df_basic['State_Location'] = df_basic['Location'].str.split(', ').str[1]\n",
    "df_basic['State_Location'] = df_basic['State_Location'].fillna(df_basic['State'])\n",
    "# df_basic['State_Locaiton'] = df_basic['State_Locaiton'].fillna('Unknown')"
   ]
  },
  {
   "cell_type": "code",
   "execution_count": 27,
   "id": "f4ebfcba",
   "metadata": {},
   "outputs": [
    {
     "data": {
      "text/plain": [
       "1493"
      ]
     },
     "execution_count": 27,
     "metadata": {},
     "output_type": "execute_result"
    }
   ],
   "source": [
    "df_basic['State_Location'].isnull().sum()"
   ]
  },
  {
   "cell_type": "code",
   "execution_count": 28,
   "id": "1a9b310a",
   "metadata": {},
   "outputs": [],
   "source": [
    "df_basic = df_basic.drop(columns=['Location', 'Country', 'City', 'State'])"
   ]
  },
  {
   "cell_type": "code",
   "execution_count": 29,
   "id": "b611be30",
   "metadata": {},
   "outputs": [
    {
     "data": {
      "text/plain": [
       "(68565, 19)"
      ]
     },
     "execution_count": 29,
     "metadata": {},
     "output_type": "execute_result"
    }
   ],
   "source": [
    "# Since we construct the new column survival_rate, survivors, and total_people, we will drop\n",
    "# 'Total.Fatal.Injuries', 'Total.Serious.Injuries', 'Total.Minor.Injuries', 'Total.Uninjured'.\n",
    "# We will also drop survivors, and total_people becuase we use them to generate survival_rate.\n",
    "df_basic = df_basic.drop(columns=['Total.Fatal.Injuries', 'Total.Serious.Injuries', \n",
    "                                 'Total.Minor.Injuries', 'Total.Uninjured', 'Total_People', 'Survivors'])\n",
    "df_basic.shape"
   ]
  },
  {
   "cell_type": "code",
   "execution_count": 30,
   "id": "2ccf2808",
   "metadata": {
    "scrolled": true
   },
   "outputs": [
    {
     "data": {
      "text/plain": [
       "Index(['Event.Date', 'Airport.Code', 'Airport.Name', 'Injury.Severity',\n",
       "       'Aircraft.damage', 'Make', 'Model', 'Amateur.Built',\n",
       "       'Number.of.Engines', 'Engine.Type', 'Purpose.of.flight',\n",
       "       'Weather.Condition', 'Broad.phase.of.flight', 'Year', 'Month.Abbr',\n",
       "       'Day.Name.Abbr', 'Weekend', 'Survival.Rate', 'State_Location'],\n",
       "      dtype='object')"
      ]
     },
     "execution_count": 30,
     "metadata": {},
     "output_type": "execute_result"
    }
   ],
   "source": [
    "df_basic.columns"
   ]
  },
  {
   "cell_type": "markdown",
   "id": "6663f4e4",
   "metadata": {},
   "source": [
    "For the columns 'Airport.Code', 'Airport.Name', we think it would influence the severity of the accident. If this accident happened within 3 miles from the airport, it will have a better chance to cause more damage since the airport area are tended to have a higher population density and potentially more complex surroundings. Since Missing values in Airport.Code and Airport.Name suggest the accident did not occur near an airport within 3 miles, we decide to convert the Airport.Code and Airport.Name columns into a single binary column indicating whether an accident occurred within 3 miles of an airport."
   ]
  },
  {
   "cell_type": "code",
   "execution_count": 31,
   "id": "5cef0e7e",
   "metadata": {},
   "outputs": [],
   "source": [
    "# Create a new column 'Near_Airport' which is True if either 'Airport.Code' or 'Airport.Name' is not null.\n",
    "df_basic['Near_Airport'] = (~df_basic['Airport.Code'].isnull()) | (~df_basic['Airport.Name'].isnull())\n"
   ]
  },
  {
   "cell_type": "code",
   "execution_count": 32,
   "id": "f3b0badb",
   "metadata": {
    "scrolled": false
   },
   "outputs": [
    {
     "data": {
      "text/plain": [
       "Index(['Event.Date', 'Injury.Severity', 'Aircraft.damage', 'Make', 'Model',\n",
       "       'Amateur.Built', 'Number.of.Engines', 'Engine.Type',\n",
       "       'Purpose.of.flight', 'Weather.Condition', 'Broad.phase.of.flight',\n",
       "       'Year', 'Month.Abbr', 'Day.Name.Abbr', 'Weekend', 'Survival.Rate',\n",
       "       'State_Location', 'Near_Airport'],\n",
       "      dtype='object')"
      ]
     },
     "execution_count": 32,
     "metadata": {},
     "output_type": "execute_result"
    }
   ],
   "source": [
    "# Drop the two columns\n",
    "df_basic = df_basic.drop(columns=['Airport.Code', 'Airport.Name'])\n",
    "df_basic.columns"
   ]
  },
  {
   "cell_type": "code",
   "execution_count": 33,
   "id": "a1edec5e",
   "metadata": {
    "scrolled": true
   },
   "outputs": [
    {
     "data": {
      "text/plain": [
       "22030"
      ]
     },
     "execution_count": 33,
     "metadata": {},
     "output_type": "execute_result"
    }
   ],
   "source": [
    "df[\"Broad.phase.of.flight\"].isnull().sum()"
   ]
  },
  {
   "cell_type": "markdown",
   "id": "448a7c4e",
   "metadata": {},
   "source": [
    "For the column \"Broad.phase.of.flight\", we think it will also have impact on the severity of the accident, since different phases of flight have varying risks and operational challenges. For instance, takeoff and landing are often more complex and risk-prone than cruising."
   ]
  },
  {
   "cell_type": "code",
   "execution_count": 34,
   "id": "54dfcdd6",
   "metadata": {
    "scrolled": false
   },
   "outputs": [
    {
     "data": {
      "text/plain": [
       "Event.Date                   0\n",
       "Injury.Severity           1489\n",
       "Aircraft.damage           2356\n",
       "Make                      1446\n",
       "Model                     1460\n",
       "Amateur.Built             1438\n",
       "Number.of.Engines         3064\n",
       "Engine.Type               4000\n",
       "Purpose.of.flight         2556\n",
       "Weather.Condition         1964\n",
       "Broad.phase.of.flight    22030\n",
       "Year                      2874\n",
       "Month.Abbr                2874\n",
       "Day.Name.Abbr             2874\n",
       "Weekend                   2874\n",
       "Survival.Rate             1507\n",
       "State_Location            1493\n",
       "Near_Airport                 0\n",
       "dtype: int64"
      ]
     },
     "execution_count": 34,
     "metadata": {},
     "output_type": "execute_result"
    }
   ],
   "source": [
    "df_basic.isna().sum()"
   ]
  },
  {
   "cell_type": "code",
   "execution_count": 35,
   "id": "c5e85e23",
   "metadata": {},
   "outputs": [],
   "source": [
    "# Fill in the missing value of \"Year\", \"Month.Abbr\", \"Day.Name.Abbr\", \"Weekend\" \n",
    "# base on the value of \"Event.Date\""
   ]
  },
  {
   "cell_type": "code",
   "execution_count": 36,
   "id": "72e4223d",
   "metadata": {
    "scrolled": false
   },
   "outputs": [
    {
     "data": {
      "text/html": [
       "<div>\n",
       "<style scoped>\n",
       "    .dataframe tbody tr th:only-of-type {\n",
       "        vertical-align: middle;\n",
       "    }\n",
       "\n",
       "    .dataframe tbody tr th {\n",
       "        vertical-align: top;\n",
       "    }\n",
       "\n",
       "    .dataframe thead th {\n",
       "        text-align: right;\n",
       "    }\n",
       "</style>\n",
       "<table border=\"1\" class=\"dataframe\">\n",
       "  <thead>\n",
       "    <tr style=\"text-align: right;\">\n",
       "      <th></th>\n",
       "      <th>Event.Date</th>\n",
       "      <th>Year</th>\n",
       "      <th>Month.Abbr</th>\n",
       "      <th>Day.Name.Abbr</th>\n",
       "      <th>Weekend</th>\n",
       "    </tr>\n",
       "  </thead>\n",
       "  <tbody>\n",
       "    <tr>\n",
       "      <th>0</th>\n",
       "      <td>1982-01-01</td>\n",
       "      <td>1982.0</td>\n",
       "      <td>Jan</td>\n",
       "      <td>Fri</td>\n",
       "      <td>False</td>\n",
       "    </tr>\n",
       "    <tr>\n",
       "      <th>1</th>\n",
       "      <td>1982-01-01</td>\n",
       "      <td>1982.0</td>\n",
       "      <td>Jan</td>\n",
       "      <td>Fri</td>\n",
       "      <td>False</td>\n",
       "    </tr>\n",
       "    <tr>\n",
       "      <th>2</th>\n",
       "      <td>1982-01-01</td>\n",
       "      <td>1982.0</td>\n",
       "      <td>Jan</td>\n",
       "      <td>Fri</td>\n",
       "      <td>False</td>\n",
       "    </tr>\n",
       "    <tr>\n",
       "      <th>3</th>\n",
       "      <td>1982-01-01</td>\n",
       "      <td>1982.0</td>\n",
       "      <td>Jan</td>\n",
       "      <td>Fri</td>\n",
       "      <td>False</td>\n",
       "    </tr>\n",
       "    <tr>\n",
       "      <th>4</th>\n",
       "      <td>1982-01-01</td>\n",
       "      <td>1982.0</td>\n",
       "      <td>Jan</td>\n",
       "      <td>Fri</td>\n",
       "      <td>False</td>\n",
       "    </tr>\n",
       "  </tbody>\n",
       "</table>\n",
       "</div>"
      ],
      "text/plain": [
       "  Event.Date    Year Month.Abbr Day.Name.Abbr Weekend\n",
       "0 1982-01-01  1982.0        Jan           Fri   False\n",
       "1 1982-01-01  1982.0        Jan           Fri   False\n",
       "2 1982-01-01  1982.0        Jan           Fri   False\n",
       "3 1982-01-01  1982.0        Jan           Fri   False\n",
       "4 1982-01-01  1982.0        Jan           Fri   False"
      ]
     },
     "execution_count": 36,
     "metadata": {},
     "output_type": "execute_result"
    }
   ],
   "source": [
    "# Create a separate dataset for the specified columns\n",
    "date_data = df_basic[['Event.Date', 'Year', 'Month.Abbr', 'Day.Name.Abbr', 'Weekend']].copy()\n",
    "\n",
    "# Convert 'Event.Date' to datetime where possible and extract year, month, day, and check for weekend\n",
    "# It will handle properly formatted dates\n",
    "date_data['Event.Date'] = pd.to_datetime(date_data['Event.Date'], errors='coerce')\n",
    "\n",
    "# Fill missing 'Year', 'Month.Abbr', 'Day.Name.Abbr', and 'Weekend' based on 'Event.Date'\n",
    "date_data.loc[date_data['Event.Date'].notnull(), 'Year'] = date_data['Event.Date'].dt.year\n",
    "date_data.loc[date_data['Event.Date'].notnull(), 'Month.Abbr'] = date_data['Event.Date'].dt.strftime('%b')\n",
    "date_data.loc[date_data['Event.Date'].notnull(), 'Day.Name.Abbr'] = date_data['Event.Date'].dt.strftime('%a')\n",
    "date_data.loc[date_data['Event.Date'].notnull(), 'Weekend'] = date_data['Event.Date'].dt.weekday >= 5\n",
    "\n",
    "# For rows where only the month might be indicated and 'Event.Date' could not be parsed to datetime\n",
    "month_only_data = df_basic[['Event.Date']].copy()\n",
    "month_only_data = month_only_data[month_only_data['Event.Date'].notnull() & month_only_data['Event.Date'].str.match(r'^[A-Za-z]+$')]\n",
    "date_data.loc[month_only_data.index, 'Month.Abbr'] = month_only_data['Event.Date']\n",
    "\n",
    "date_data.head()\n"
   ]
  },
  {
   "cell_type": "code",
   "execution_count": 37,
   "id": "3de0f2d9",
   "metadata": {},
   "outputs": [
    {
     "data": {
      "text/plain": [
       "(  Event.Date    Year Month.Abbr Day.Name.Abbr  Weekend\n",
       " 0 1982-01-01  1982.0        Jan           Fri    False\n",
       " 1 1982-01-01  1982.0        Jan           Fri    False\n",
       " 2 1982-01-01  1982.0        Jan           Fri    False\n",
       " 3 1982-01-01  1982.0        Jan           Fri    False\n",
       " 4 1982-01-01  1982.0        Jan           Fri    False,\n",
       " Event.Date       0\n",
       " Year             0\n",
       " Month.Abbr       0\n",
       " Day.Name.Abbr    0\n",
       " Weekend          0\n",
       " dtype: int64)"
      ]
     },
     "execution_count": 37,
     "metadata": {},
     "output_type": "execute_result"
    }
   ],
   "source": [
    "# Apply forward fill to populate remaining missing values\n",
    "date_data_filled = date_data.fillna(method='ffill')\n",
    "\n",
    "# Display the updated dataset to confirm changes\n",
    "date_data_filled.head(), date_data_filled.isnull().sum()"
   ]
  },
  {
   "cell_type": "code",
   "execution_count": 38,
   "id": "3d4fab05",
   "metadata": {
    "scrolled": true
   },
   "outputs": [
    {
     "data": {
      "text/plain": [
       "Event.Date       0\n",
       "Year             0\n",
       "Month.Abbr       0\n",
       "Day.Name.Abbr    0\n",
       "Weekend          0\n",
       "dtype: int64"
      ]
     },
     "execution_count": 38,
     "metadata": {},
     "output_type": "execute_result"
    }
   ],
   "source": [
    "date_data_filled.isnull().sum()"
   ]
  },
  {
   "cell_type": "code",
   "execution_count": 39,
   "id": "7b965a7e",
   "metadata": {},
   "outputs": [],
   "source": [
    "df_basic['Year'] = date_data_filled['Year']\n",
    "df_basic['Month.Abbr'] = date_data_filled['Month.Abbr']\n",
    "df_basic['Day.Name.Abbr'] = date_data_filled['Day.Name.Abbr']\n",
    "df_basic['Weekend'] = date_data_filled['Weekend']\n",
    "df_basic = df_basic.drop(columns=['Event.Date'])"
   ]
  },
  {
   "cell_type": "code",
   "execution_count": 40,
   "id": "39a6fd09",
   "metadata": {
    "scrolled": true
   },
   "outputs": [
    {
     "data": {
      "text/plain": [
       "Injury.Severity           1489\n",
       "Aircraft.damage           2356\n",
       "Make                      1446\n",
       "Model                     1460\n",
       "Amateur.Built             1438\n",
       "Number.of.Engines         3064\n",
       "Engine.Type               4000\n",
       "Purpose.of.flight         2556\n",
       "Weather.Condition         1964\n",
       "Broad.phase.of.flight    22030\n",
       "Year                         0\n",
       "Month.Abbr                   0\n",
       "Day.Name.Abbr                0\n",
       "Weekend                      0\n",
       "Survival.Rate             1507\n",
       "State_Location            1493\n",
       "Near_Airport                 0\n",
       "dtype: int64"
      ]
     },
     "execution_count": 40,
     "metadata": {},
     "output_type": "execute_result"
    }
   ],
   "source": [
    "df_basic.isnull().sum()"
   ]
  },
  {
   "cell_type": "code",
   "execution_count": 41,
   "id": "77a18101",
   "metadata": {
    "scrolled": false
   },
   "outputs": [],
   "source": [
    "# Before dealing with missing values, we find that there are a few rows with lots of missing values.\n",
    "# We will just directly drop them to avoid adding bias to our model.\n",
    "df_basic = df_basic.dropna(subset=['State_Location'])"
   ]
  },
  {
   "cell_type": "code",
   "execution_count": 42,
   "id": "d89d7734",
   "metadata": {
    "scrolled": true
   },
   "outputs": [
    {
     "data": {
      "text/plain": [
       "Injury.Severity             51\n",
       "Aircraft.damage            915\n",
       "Make                         9\n",
       "Model                       23\n",
       "Amateur.Built                1\n",
       "Number.of.Engines         1627\n",
       "Engine.Type               2559\n",
       "Purpose.of.flight         1097\n",
       "Weather.Condition          525\n",
       "Broad.phase.of.flight    20541\n",
       "Year                         0\n",
       "Month.Abbr                   0\n",
       "Day.Name.Abbr                0\n",
       "Weekend                      0\n",
       "Survival.Rate               69\n",
       "State_Location               0\n",
       "Near_Airport                 0\n",
       "dtype: int64"
      ]
     },
     "execution_count": 42,
     "metadata": {},
     "output_type": "execute_result"
    }
   ],
   "source": [
    "df_basic.isnull().sum()\n",
    "# After drop all of the missing values of feature \"State_Location\", we can observe that \n",
    "# columns [\"Injury.Severity\", \"Make\", \"Amateur.Built\", \"Survival.Rate\", \"Model\"] only contains \n",
    "# a few missing values. Since we have a pretty large dataset, we can just directly \n",
    "# drop the missing values of these columns as well."
   ]
  },
  {
   "cell_type": "code",
   "execution_count": 43,
   "id": "d8c01ec1",
   "metadata": {},
   "outputs": [],
   "source": [
    "df_basic = df_basic.dropna(subset=['Injury.Severity', 'Survival.Rate', 'Model', 'Amateur.Built', 'Make'])"
   ]
  },
  {
   "cell_type": "code",
   "execution_count": 44,
   "id": "cb8398ee",
   "metadata": {
    "scrolled": true
   },
   "outputs": [
    {
     "data": {
      "text/plain": [
       "Injury.Severity              0\n",
       "Aircraft.damage            895\n",
       "Make                         0\n",
       "Model                        0\n",
       "Amateur.Built                0\n",
       "Number.of.Engines         1602\n",
       "Engine.Type               2517\n",
       "Purpose.of.flight         1063\n",
       "Weather.Condition          497\n",
       "Broad.phase.of.flight    20471\n",
       "Year                         0\n",
       "Month.Abbr                   0\n",
       "Day.Name.Abbr                0\n",
       "Weekend                      0\n",
       "Survival.Rate                0\n",
       "State_Location               0\n",
       "Near_Airport                 0\n",
       "dtype: int64"
      ]
     },
     "execution_count": 44,
     "metadata": {},
     "output_type": "execute_result"
    }
   ],
   "source": [
    "df_basic.isnull().sum()"
   ]
  },
  {
   "cell_type": "code",
   "execution_count": 45,
   "id": "e87f2b8d",
   "metadata": {},
   "outputs": [
    {
     "data": {
      "text/plain": [
       "Injury.Severity             0\n",
       "Aircraft.damage            50\n",
       "Make                       15\n",
       "Model                       0\n",
       "Amateur.Built               0\n",
       "Number.of.Engines           0\n",
       "Engine.Type              1330\n",
       "Purpose.of.flight        4484\n",
       "Weather.Condition         598\n",
       "Broad.phase.of.flight     413\n",
       "Year                        0\n",
       "Month.Abbr                  0\n",
       "Day.Name.Abbr               0\n",
       "Weekend                     0\n",
       "Survival.Rate               0\n",
       "State_Location              0\n",
       "Near_Airport                0\n",
       "dtype: int64"
      ]
     },
     "execution_count": 45,
     "metadata": {},
     "output_type": "execute_result"
    }
   ],
   "source": [
    "unknown_counts = df_basic.apply(lambda col: (col == 'Unknown').sum())\n",
    "\n",
    "unknown_counts"
   ]
  },
  {
   "cell_type": "code",
   "execution_count": 46,
   "id": "9685de21",
   "metadata": {},
   "outputs": [],
   "source": [
    "def add_indicators(df, column_names):\n",
    "    for column in column_names:\n",
    "        # Indicator for missing values or value of \"Unknown\"\n",
    "        df[column + '_missing_or_unknown'] = df[column].apply(lambda x: 1 if pd.isna(x) or x == 'Unknown' else 0)\n",
    "\n",
    "\n",
    "columns_to_check = ['Aircraft.damage', 'Make', 'Number.of.Engines', 'Engine.Type', \n",
    "                    'Purpose.of.flight', 'Weather.Condition', 'Broad.phase.of.flight']\n",
    "add_indicators(df_basic, columns_to_check)\n"
   ]
  },
  {
   "cell_type": "code",
   "execution_count": 47,
   "id": "07cc0762",
   "metadata": {},
   "outputs": [
    {
     "data": {
      "text/plain": [
       "Injury.Severity                                 0\n",
       "Aircraft.damage                               895\n",
       "Make                                            0\n",
       "Model                                           0\n",
       "Amateur.Built                                   0\n",
       "Number.of.Engines                            1602\n",
       "Engine.Type                                  2517\n",
       "Purpose.of.flight                            1063\n",
       "Weather.Condition                             497\n",
       "Broad.phase.of.flight                       20471\n",
       "Year                                            0\n",
       "Month.Abbr                                      0\n",
       "Day.Name.Abbr                                   0\n",
       "Weekend                                         0\n",
       "Survival.Rate                                   0\n",
       "State_Location                                  0\n",
       "Near_Airport                                    0\n",
       "Aircraft.damage_missing_or_unknown              0\n",
       "Make_missing_or_unknown                         0\n",
       "Number.of.Engines_missing_or_unknown            0\n",
       "Engine.Type_missing_or_unknown                  0\n",
       "Purpose.of.flight_missing_or_unknown            0\n",
       "Weather.Condition_missing_or_unknown            0\n",
       "Broad.phase.of.flight_missing_or_unknown        0\n",
       "dtype: int64"
      ]
     },
     "execution_count": 47,
     "metadata": {},
     "output_type": "execute_result"
    }
   ],
   "source": [
    "df_basic.isnull().sum()"
   ]
  },
  {
   "cell_type": "code",
   "execution_count": 48,
   "id": "0d07fa67",
   "metadata": {},
   "outputs": [],
   "source": [
    "# Now we will try to fill in other missing values."
   ]
  },
  {
   "cell_type": "code",
   "execution_count": 49,
   "id": "c26538d8",
   "metadata": {},
   "outputs": [],
   "source": [
    "df_basic_handle_missing = df_basic.copy()"
   ]
  },
  {
   "cell_type": "code",
   "execution_count": 50,
   "id": "1990cfc6",
   "metadata": {
    "scrolled": false
   },
   "outputs": [
    {
     "data": {
      "text/plain": [
       "Injury.Severity                                 0\n",
       "Aircraft.damage                               895\n",
       "Make                                            0\n",
       "Model                                           0\n",
       "Amateur.Built                                   0\n",
       "Number.of.Engines                            1602\n",
       "Engine.Type                                  2517\n",
       "Purpose.of.flight                            1063\n",
       "Weather.Condition                             497\n",
       "Broad.phase.of.flight                       20471\n",
       "Year                                            0\n",
       "Month.Abbr                                      0\n",
       "Day.Name.Abbr                                   0\n",
       "Weekend                                         0\n",
       "Survival.Rate                                   0\n",
       "State_Location                                  0\n",
       "Near_Airport                                    0\n",
       "Aircraft.damage_missing_or_unknown              0\n",
       "Make_missing_or_unknown                         0\n",
       "Number.of.Engines_missing_or_unknown            0\n",
       "Engine.Type_missing_or_unknown                  0\n",
       "Purpose.of.flight_missing_or_unknown            0\n",
       "Weather.Condition_missing_or_unknown            0\n",
       "Broad.phase.of.flight_missing_or_unknown        0\n",
       "dtype: int64"
      ]
     },
     "execution_count": 50,
     "metadata": {},
     "output_type": "execute_result"
    }
   ],
   "source": [
    "df_basic_handle_missing.isnull().sum()"
   ]
  },
  {
   "cell_type": "code",
   "execution_count": null,
   "id": "d9acb68d",
   "metadata": {},
   "outputs": [],
   "source": []
  },
  {
   "cell_type": "code",
   "execution_count": 51,
   "id": "6868521f",
   "metadata": {},
   "outputs": [],
   "source": [
    "# df_basic_handle_missing = df_basic_handle_missing.dropna(subset=[\"Injury.Severity\", \"Make\", \n",
    "#                                                                 \"Amateur.Built\", \"Survival.Rate\"])"
   ]
  },
  {
   "cell_type": "code",
   "execution_count": 52,
   "id": "2872eef6",
   "metadata": {
    "scrolled": false
   },
   "outputs": [],
   "source": [
    "# df_basic_handle_missing.isnull().sum()"
   ]
  },
  {
   "cell_type": "code",
   "execution_count": 53,
   "id": "5eaf6f4c",
   "metadata": {},
   "outputs": [
    {
     "data": {
      "text/plain": [
       "Weather.Condition\n",
       "VMC        61315\n",
       "IMC         4562\n",
       "Unknown      598\n",
       "Name: count, dtype: int64"
      ]
     },
     "execution_count": 53,
     "metadata": {},
     "output_type": "execute_result"
    }
   ],
   "source": [
    "df_basic_handle_missing[\"Weather.Condition\"].value_counts()\n",
    "# Since moajority of the values for columns \"Weather.Condition\" is VMC, \n",
    "# we will fill in the missing value by the mode.\n",
    "# We will replace the value of \"Unknown\" by the mode as well."
   ]
  },
  {
   "cell_type": "code",
   "execution_count": 54,
   "id": "dcf90a67",
   "metadata": {},
   "outputs": [],
   "source": [
    "# Find the mode\n",
    "mode_value_Weather = df_basic_handle_missing['Weather.Condition'].mode()[0] \n",
    "# Replace missing values with the mode\n",
    "df_basic_handle_missing['Weather.Condition'].fillna(mode_value_Weather, inplace=True)  \n",
    "# Replace 'Unknown' with the mode\n",
    "df_basic_handle_missing['Weather.Condition'] = df_basic_handle_missing['Weather.Condition'].replace('Unknown', mode_value_Weather)"
   ]
  },
  {
   "cell_type": "code",
   "execution_count": 55,
   "id": "1b7883c7",
   "metadata": {},
   "outputs": [
    {
     "data": {
      "text/plain": [
       "Weather.Condition\n",
       "VMC    62410\n",
       "IMC     4562\n",
       "Name: count, dtype: int64"
      ]
     },
     "execution_count": 55,
     "metadata": {},
     "output_type": "execute_result"
    }
   ],
   "source": [
    "df_basic_handle_missing[\"Weather.Condition\"].value_counts()"
   ]
  },
  {
   "cell_type": "code",
   "execution_count": 56,
   "id": "c8960de0",
   "metadata": {},
   "outputs": [
    {
     "data": {
      "text/plain": [
       "Injury.Severity                                 0\n",
       "Aircraft.damage                               895\n",
       "Make                                            0\n",
       "Model                                           0\n",
       "Amateur.Built                                   0\n",
       "Number.of.Engines                            1602\n",
       "Engine.Type                                  2517\n",
       "Purpose.of.flight                            1063\n",
       "Weather.Condition                               0\n",
       "Broad.phase.of.flight                       20471\n",
       "Year                                            0\n",
       "Month.Abbr                                      0\n",
       "Day.Name.Abbr                                   0\n",
       "Weekend                                         0\n",
       "Survival.Rate                                   0\n",
       "State_Location                                  0\n",
       "Near_Airport                                    0\n",
       "Aircraft.damage_missing_or_unknown              0\n",
       "Make_missing_or_unknown                         0\n",
       "Number.of.Engines_missing_or_unknown            0\n",
       "Engine.Type_missing_or_unknown                  0\n",
       "Purpose.of.flight_missing_or_unknown            0\n",
       "Weather.Condition_missing_or_unknown            0\n",
       "Broad.phase.of.flight_missing_or_unknown        0\n",
       "dtype: int64"
      ]
     },
     "execution_count": 56,
     "metadata": {},
     "output_type": "execute_result"
    }
   ],
   "source": [
    "df_basic_handle_missing.isnull().sum()"
   ]
  },
  {
   "cell_type": "code",
   "execution_count": 57,
   "id": "6a80f1ff",
   "metadata": {},
   "outputs": [
    {
     "data": {
      "text/plain": [
       "Engine.Type\n",
       "Reciprocating    57167\n",
       "Turbo Shaft       2552\n",
       "Turbo Prop        2158\n",
       "Unknown           1330\n",
       "Turbo Fan          910\n",
       "Turbo Jet          328\n",
       "Electric             4\n",
       "LR                   2\n",
       "NONE                 2\n",
       "Hybrid Rocket        1\n",
       "UNK                  1\n",
       "Name: count, dtype: int64"
      ]
     },
     "execution_count": 57,
     "metadata": {},
     "output_type": "execute_result"
    }
   ],
   "source": [
    "df_basic_handle_missing[\"Engine.Type\"].value_counts()\n",
    "# Since moajority of the values for columns \"Engine.Type\" is Reciprocating, \n",
    "# we will fill in the missing value by the mode.\n",
    "# We will replace the value of \"Unknown\" by the mode as well."
   ]
  },
  {
   "cell_type": "code",
   "execution_count": 58,
   "id": "d1af4ca0",
   "metadata": {},
   "outputs": [],
   "source": [
    "# Find the mode\n",
    "mode_value_Engine_Type = df_basic_handle_missing['Engine.Type'].mode()[0] \n",
    "# Replace missing values with the mode\n",
    "df_basic_handle_missing['Engine.Type'].fillna(mode_value_Engine_Type, inplace=True)  \n",
    "# Replace 'Unknown' with the mode\n",
    "df_basic_handle_missing['Engine.Type'] = \\\n",
    "    df_basic_handle_missing['Engine.Type'].replace('Unknown', mode_value_Engine_Type)\n",
    "# Replace 'None' with the mode\n",
    "df_basic_handle_missing['Engine.Type'] = \\\n",
    "    df_basic_handle_missing['Engine.Type'].replace('NONE', mode_value_Engine_Type)"
   ]
  },
  {
   "cell_type": "code",
   "execution_count": 59,
   "id": "078a83c5",
   "metadata": {
    "scrolled": true
   },
   "outputs": [
    {
     "data": {
      "text/plain": [
       "Engine.Type\n",
       "Reciprocating    61016\n",
       "Turbo Shaft       2552\n",
       "Turbo Prop        2158\n",
       "Turbo Fan          910\n",
       "Turbo Jet          328\n",
       "Electric             4\n",
       "LR                   2\n",
       "Hybrid Rocket        1\n",
       "UNK                  1\n",
       "Name: count, dtype: int64"
      ]
     },
     "execution_count": 59,
     "metadata": {},
     "output_type": "execute_result"
    }
   ],
   "source": [
    "df_basic_handle_missing[\"Engine.Type\"].value_counts()"
   ]
  },
  {
   "cell_type": "code",
   "execution_count": 60,
   "id": "c60ea308",
   "metadata": {},
   "outputs": [
    {
     "data": {
      "text/plain": [
       "Index(['Injury.Severity', 'Aircraft.damage', 'Make', 'Model', 'Amateur.Built',\n",
       "       'Number.of.Engines', 'Engine.Type', 'Purpose.of.flight',\n",
       "       'Weather.Condition', 'Broad.phase.of.flight', 'Year', 'Month.Abbr',\n",
       "       'Day.Name.Abbr', 'Weekend', 'Survival.Rate', 'State_Location',\n",
       "       'Near_Airport', 'Aircraft.damage_missing_or_unknown',\n",
       "       'Make_missing_or_unknown', 'Number.of.Engines_missing_or_unknown',\n",
       "       'Engine.Type_missing_or_unknown',\n",
       "       'Purpose.of.flight_missing_or_unknown',\n",
       "       'Weather.Condition_missing_or_unknown',\n",
       "       'Broad.phase.of.flight_missing_or_unknown'],\n",
       "      dtype='object')"
      ]
     },
     "execution_count": 60,
     "metadata": {},
     "output_type": "execute_result"
    }
   ],
   "source": [
    "df_basic_handle_missing.columns"
   ]
  },
  {
   "cell_type": "code",
   "execution_count": 61,
   "id": "6f4338db",
   "metadata": {},
   "outputs": [
    {
     "data": {
      "text/plain": [
       "Aircraft.damage\n",
       "Substantial    51350\n",
       "Destroyed      14144\n",
       "Minor            533\n",
       "Unknown           50\n",
       "Name: count, dtype: int64"
      ]
     },
     "execution_count": 61,
     "metadata": {},
     "output_type": "execute_result"
    }
   ],
   "source": [
    "df_basic_handle_missing['Aircraft.damage'].value_counts()\n",
    "# Since moajority of the values for columns \"Engine.Type\" is Substantial, \n",
    "# we will fill in the missing value by the mode.\n",
    "# We will replace the value of \"Unknown\" by the mode as well."
   ]
  },
  {
   "cell_type": "code",
   "execution_count": 62,
   "id": "198108f5",
   "metadata": {},
   "outputs": [],
   "source": [
    "# Find the mode\n",
    "mode_value_Aircraft_damage = df_basic_handle_missing['Aircraft.damage'].mode()[0] \n",
    "# Replace missing values with the mode\n",
    "df_basic_handle_missing['Aircraft.damage'].fillna(mode_value_Aircraft_damage, inplace=True)  \n",
    "# Replace 'Unknown' with the mode\n",
    "df_basic_handle_missing['Aircraft.damage'] = \\\n",
    "    df_basic_handle_missing['Aircraft.damage'].replace('Unknown', mode_value_Aircraft_damage)"
   ]
  },
  {
   "cell_type": "code",
   "execution_count": 63,
   "id": "a2c585ec",
   "metadata": {},
   "outputs": [
    {
     "data": {
      "text/plain": [
       "Aircraft.damage\n",
       "Substantial    52295\n",
       "Destroyed      14144\n",
       "Minor            533\n",
       "Name: count, dtype: int64"
      ]
     },
     "execution_count": 63,
     "metadata": {},
     "output_type": "execute_result"
    }
   ],
   "source": [
    "df_basic_handle_missing['Aircraft.damage'].value_counts()"
   ]
  },
  {
   "cell_type": "code",
   "execution_count": 64,
   "id": "ec9fe3a1",
   "metadata": {},
   "outputs": [
    {
     "data": {
      "text/plain": [
       "Injury.Severity                                 0\n",
       "Aircraft.damage                                 0\n",
       "Make                                            0\n",
       "Model                                           0\n",
       "Amateur.Built                                   0\n",
       "Number.of.Engines                            1602\n",
       "Engine.Type                                     0\n",
       "Purpose.of.flight                            1063\n",
       "Weather.Condition                               0\n",
       "Broad.phase.of.flight                       20471\n",
       "Year                                            0\n",
       "Month.Abbr                                      0\n",
       "Day.Name.Abbr                                   0\n",
       "Weekend                                         0\n",
       "Survival.Rate                                   0\n",
       "State_Location                                  0\n",
       "Near_Airport                                    0\n",
       "Aircraft.damage_missing_or_unknown              0\n",
       "Make_missing_or_unknown                         0\n",
       "Number.of.Engines_missing_or_unknown            0\n",
       "Engine.Type_missing_or_unknown                  0\n",
       "Purpose.of.flight_missing_or_unknown            0\n",
       "Weather.Condition_missing_or_unknown            0\n",
       "Broad.phase.of.flight_missing_or_unknown        0\n",
       "dtype: int64"
      ]
     },
     "execution_count": 64,
     "metadata": {},
     "output_type": "execute_result"
    }
   ],
   "source": [
    "df_basic_handle_missing.isnull().sum()"
   ]
  },
  {
   "cell_type": "code",
   "execution_count": 65,
   "id": "854986be",
   "metadata": {
    "scrolled": true
   },
   "outputs": [
    {
     "data": {
      "text/plain": [
       "Number.of.Engines\n",
       "1.0    57084\n",
       "2.0     7156\n",
       "0.0      836\n",
       "4.0      148\n",
       "3.0      144\n",
       "8.0        2\n",
       "Name: count, dtype: int64"
      ]
     },
     "execution_count": 65,
     "metadata": {},
     "output_type": "execute_result"
    }
   ],
   "source": [
    "df_basic_handle_missing['Number.of.Engines'].value_counts()"
   ]
  },
  {
   "cell_type": "code",
   "execution_count": 66,
   "id": "053c7e09",
   "metadata": {},
   "outputs": [
    {
     "name": "stdout",
     "output_type": "stream",
     "text": [
      "174\n",
      "9559\n"
     ]
    }
   ],
   "source": [
    "# We want to fill in the missing value of column \"Number.of.Engines\" with the values from columns \"Model.\n",
    "# If two planes are in the same model, then they should have the same number of engines.\n",
    "\n",
    "# Group by 'Model' and explore the unique 'Number.of.Engines' for each model\n",
    "model_engines = df_basic_handle_missing.groupby('Model')['Number.of.Engines'].nunique()\n",
    "\n",
    "# Display models where the number of engines varies\n",
    "model_variations = model_engines[model_engines > 1]\n",
    "\n",
    "\n",
    "print(len(model_variations))\n",
    "print(len(model_engines))\n",
    "# Out of 9564 distinct models, only 175 of them contains different number of engines. \n",
    "# Hence, our hypothesis about the relationship between columns \"Number.of.Engines\" and \"Model\" is trustful."
   ]
  },
  {
   "cell_type": "code",
   "execution_count": 67,
   "id": "be24bf57",
   "metadata": {},
   "outputs": [],
   "source": [
    "# Then we will implement missing value of column \"Number.of.Engines\" based on the \n",
    "# value of the column \"Model\"."
   ]
  },
  {
   "cell_type": "code",
   "execution_count": 68,
   "id": "12765b9e",
   "metadata": {},
   "outputs": [
    {
     "data": {
      "text/plain": [
       "Model\n",
       "&GCBC                 1.0\n",
       "(MODIFIED)            1.0\n",
       "(SOLOY CONVERSION)    1.0\n",
       "0-47B                 1.0\n",
       "0-58A                 1.0\n",
       "                     ... \n",
       "Zodiac CH601          1.0\n",
       "Zodiac CH601XL        1.0\n",
       "Zodiac HDS-601        1.0\n",
       "kit                   1.0\n",
       "unk                   1.0\n",
       "Name: Number.of.Engines, Length: 9559, dtype: float64"
      ]
     },
     "execution_count": 68,
     "metadata": {},
     "output_type": "execute_result"
    }
   ],
   "source": [
    "common_engines = df_basic_handle_missing.groupby('Model')['Number.of.Engines'].agg(lambda x: x.mode()[0] if not x.mode().empty else None)\n",
    "common_engines"
   ]
  },
  {
   "cell_type": "code",
   "execution_count": 69,
   "id": "1f785c3c",
   "metadata": {},
   "outputs": [],
   "source": [
    "# Group the data by 'Model' and calculate the most common 'Number.of.Engines' for each model\n",
    "common_engines = df_basic_handle_missing.groupby('Model')['Number.of.Engines'].agg(lambda x: x.mode()[0] if not x.mode().empty else None)\n",
    "\n",
    "# Fill missing values in 'Number.of.Engines'\n",
    "df_basic_handle_missing['Number.of.Engines'] = \\\n",
    "df_basic_handle_missing['Number.of.Engines'].fillna(df_basic_handle_missing['Model'].map(common_engines))"
   ]
  },
  {
   "cell_type": "code",
   "execution_count": 70,
   "id": "592e588a",
   "metadata": {},
   "outputs": [
    {
     "data": {
      "text/plain": [
       "Injury.Severity                                 0\n",
       "Aircraft.damage                                 0\n",
       "Make                                            0\n",
       "Model                                           0\n",
       "Amateur.Built                                   0\n",
       "Number.of.Engines                             426\n",
       "Engine.Type                                     0\n",
       "Purpose.of.flight                            1063\n",
       "Weather.Condition                               0\n",
       "Broad.phase.of.flight                       20471\n",
       "Year                                            0\n",
       "Month.Abbr                                      0\n",
       "Day.Name.Abbr                                   0\n",
       "Weekend                                         0\n",
       "Survival.Rate                                   0\n",
       "State_Location                                  0\n",
       "Near_Airport                                    0\n",
       "Aircraft.damage_missing_or_unknown              0\n",
       "Make_missing_or_unknown                         0\n",
       "Number.of.Engines_missing_or_unknown            0\n",
       "Engine.Type_missing_or_unknown                  0\n",
       "Purpose.of.flight_missing_or_unknown            0\n",
       "Weather.Condition_missing_or_unknown            0\n",
       "Broad.phase.of.flight_missing_or_unknown        0\n",
       "dtype: int64"
      ]
     },
     "execution_count": 70,
     "metadata": {},
     "output_type": "execute_result"
    }
   ],
   "source": [
    "df_basic_handle_missing.isnull().sum()"
   ]
  },
  {
   "cell_type": "code",
   "execution_count": 71,
   "id": "43b51119",
   "metadata": {},
   "outputs": [],
   "source": [
    "# We will fill in the rest of missing values with the mode.\n",
    "# Find the mode\n",
    "mode_value_Number_Engines = df_basic_handle_missing['Number.of.Engines'].mode()[0] \n",
    "# Replace missing values with the mode\n",
    "df_basic_handle_missing['Number.of.Engines'].fillna(mode_value_Number_Engines, inplace=True) "
   ]
  },
  {
   "cell_type": "code",
   "execution_count": 72,
   "id": "84075788",
   "metadata": {
    "scrolled": true
   },
   "outputs": [
    {
     "data": {
      "text/plain": [
       "Purpose.of.flight\n",
       "Personal                     40510\n",
       "Instructional                 8550\n",
       "Unknown                       4484\n",
       "Aerial Application            4041\n",
       "Business                      3314\n",
       "Positioning                   1110\n",
       "Other Work Use                 907\n",
       "Ferry                          643\n",
       "Aerial Observation             599\n",
       "Public Aircraft                492\n",
       "Executive/corporate            400\n",
       "Flight Test                    236\n",
       "Skydiving                      101\n",
       "External Load                   96\n",
       "Air Race show                   81\n",
       "Banner Tow                      76\n",
       "Public Aircraft - Federal       73\n",
       "Public Aircraft - Local         64\n",
       "Public Aircraft - State         48\n",
       "Glider Tow                      42\n",
       "Firefighting                    25\n",
       "Air Drop                         6\n",
       "ASHO                             6\n",
       "PUBS                             4\n",
       "PUBL                             1\n",
       "Name: count, dtype: int64"
      ]
     },
     "execution_count": 72,
     "metadata": {},
     "output_type": "execute_result"
    }
   ],
   "source": [
    "df_basic_handle_missing['Purpose.of.flight'].value_counts()"
   ]
  },
  {
   "cell_type": "code",
   "execution_count": 73,
   "id": "8c2e7686",
   "metadata": {},
   "outputs": [],
   "source": [
    "# We think column \"Purpose.of.flight\" maybe be correlated with the column \"Model\". \n",
    "# Certain model can be more preferred to fulfill certain purpose of flight. \n",
    "# For all of the missing value and value of \"Unknown\", fill in or replace it by mapping aircraft \n",
    "# models to their most common purposes of flight."
   ]
  },
  {
   "cell_type": "code",
   "execution_count": 74,
   "id": "f2a8d47f",
   "metadata": {},
   "outputs": [
    {
     "data": {
      "text/plain": [
       "(Model\n",
       " &GCBC                           Personal\n",
       " (MODIFIED)                       Unknown\n",
       " (SOLOY CONVERSION)    Aerial Application\n",
       " 0-47B                           Personal\n",
       " 0-58A                           Personal\n",
       " 0-58B                           Personal\n",
       " 0-77                            Personal\n",
       " 001                             Personal\n",
       " 01                              Personal\n",
       " 058B                            Personal\n",
       " Name: Purpose.of.flight, dtype: object,\n",
       " 1024,\n",
       " 338)"
      ]
     },
     "execution_count": 74,
     "metadata": {},
     "output_type": "execute_result"
    }
   ],
   "source": [
    "# Ensure the mapping excludes 'Unknown' unless it's the only data available\n",
    "common_purpose_mapping_full = df_basic_handle_missing.groupby('Model')['Purpose.of.flight'].agg(\n",
    "    lambda x: x[x != 'Unknown'].mode()[0] if not x[x != 'Unknown'].mode().empty else (x.mode()[0] if not x.mode().empty else None)\n",
    ")\n",
    "\n",
    "# Apply mapping to the entire dataset to replace 'Unknown' and fill missing values\n",
    "df_basic_handle_missing['Purpose.of.flight'] = df_basic_handle_missing.apply(\n",
    "    lambda row: common_purpose_mapping_full.get(row['Model'], row['Purpose.of.flight']) if (row['Purpose.of.flight'] == 'Unknown' or pd.isna(row['Purpose.of.flight'])) else row['Purpose.of.flight'],\n",
    "    axis=1\n",
    ")\n",
    "\n",
    "# Check how many 'Unknown' or NaN are still present after replacement\n",
    "remaining_unknowns_full = (df_basic_handle_missing['Purpose.of.flight'] == 'Unknown').sum()\n",
    "remaining_nans_full = df_basic_handle_missing['Purpose.of.flight'].isna().sum()\n",
    "\n",
    "common_purpose_mapping_full.head(10), remaining_unknowns_full, remaining_nans_full\n"
   ]
  },
  {
   "cell_type": "code",
   "execution_count": 75,
   "id": "67b2045c",
   "metadata": {},
   "outputs": [],
   "source": [
    "# After this approach, there are still 1031 missing values and 1797 unknown values. \n",
    "# We will just fill in or replace it with the mode.\n",
    "\n",
    "# Find the mode\n",
    "mode_value_purpose_flight = df_basic_handle_missing['Purpose.of.flight'].mode()[0] \n",
    "# Replace missing values with the mode\n",
    "df_basic_handle_missing['Purpose.of.flight'].fillna(mode_value_purpose_flight, inplace=True)  \n",
    "# Replace 'Unknown' with the mode\n",
    "df_basic_handle_missing['Purpose.of.flight'] = \\\n",
    "    df_basic_handle_missing['Purpose.of.flight'].replace('Unknown', mode_value_purpose_flight)"
   ]
  },
  {
   "cell_type": "code",
   "execution_count": 76,
   "id": "463f36b1",
   "metadata": {
    "scrolled": true
   },
   "outputs": [
    {
     "data": {
      "text/plain": [
       "Injury.Severity                                 0\n",
       "Aircraft.damage                                 0\n",
       "Make                                            0\n",
       "Model                                           0\n",
       "Amateur.Built                                   0\n",
       "Number.of.Engines                               0\n",
       "Engine.Type                                     0\n",
       "Purpose.of.flight                               0\n",
       "Weather.Condition                               0\n",
       "Broad.phase.of.flight                       20471\n",
       "Year                                            0\n",
       "Month.Abbr                                      0\n",
       "Day.Name.Abbr                                   0\n",
       "Weekend                                         0\n",
       "Survival.Rate                                   0\n",
       "State_Location                                  0\n",
       "Near_Airport                                    0\n",
       "Aircraft.damage_missing_or_unknown              0\n",
       "Make_missing_or_unknown                         0\n",
       "Number.of.Engines_missing_or_unknown            0\n",
       "Engine.Type_missing_or_unknown                  0\n",
       "Purpose.of.flight_missing_or_unknown            0\n",
       "Weather.Condition_missing_or_unknown            0\n",
       "Broad.phase.of.flight_missing_or_unknown        0\n",
       "dtype: int64"
      ]
     },
     "execution_count": 76,
     "metadata": {},
     "output_type": "execute_result"
    }
   ],
   "source": [
    "df_basic_handle_missing.isnull().sum()"
   ]
  },
  {
   "cell_type": "code",
   "execution_count": 77,
   "id": "d08b7dbd",
   "metadata": {},
   "outputs": [],
   "source": [
    "df_basic_handle_missing['Broad.phase.of.flight'].fillna('Unknown', inplace=True)"
   ]
  },
  {
   "cell_type": "code",
   "execution_count": 78,
   "id": "83235e72",
   "metadata": {
    "scrolled": true
   },
   "outputs": [
    {
     "data": {
      "text/plain": [
       "Injury.Severity                             0\n",
       "Aircraft.damage                             0\n",
       "Make                                        0\n",
       "Model                                       0\n",
       "Amateur.Built                               0\n",
       "Number.of.Engines                           0\n",
       "Engine.Type                                 0\n",
       "Purpose.of.flight                           0\n",
       "Weather.Condition                           0\n",
       "Broad.phase.of.flight                       0\n",
       "Year                                        0\n",
       "Month.Abbr                                  0\n",
       "Day.Name.Abbr                               0\n",
       "Weekend                                     0\n",
       "Survival.Rate                               0\n",
       "State_Location                              0\n",
       "Near_Airport                                0\n",
       "Aircraft.damage_missing_or_unknown          0\n",
       "Make_missing_or_unknown                     0\n",
       "Number.of.Engines_missing_or_unknown        0\n",
       "Engine.Type_missing_or_unknown              0\n",
       "Purpose.of.flight_missing_or_unknown        0\n",
       "Weather.Condition_missing_or_unknown        0\n",
       "Broad.phase.of.flight_missing_or_unknown    0\n",
       "dtype: int64"
      ]
     },
     "execution_count": 78,
     "metadata": {},
     "output_type": "execute_result"
    }
   ],
   "source": [
    "df_basic_handle_missing.isnull().sum()"
   ]
  },
  {
   "cell_type": "code",
   "execution_count": 79,
   "id": "0b9b29ad",
   "metadata": {
    "scrolled": true
   },
   "outputs": [
    {
     "data": {
      "text/plain": [
       "Injury.Severity                                 0\n",
       "Aircraft.damage                                 0\n",
       "Make                                           15\n",
       "Model                                           0\n",
       "Amateur.Built                                   0\n",
       "Number.of.Engines                               0\n",
       "Engine.Type                                     0\n",
       "Purpose.of.flight                               0\n",
       "Weather.Condition                               0\n",
       "Broad.phase.of.flight                       20884\n",
       "Year                                            0\n",
       "Month.Abbr                                      0\n",
       "Day.Name.Abbr                                   0\n",
       "Weekend                                         0\n",
       "Survival.Rate                                   0\n",
       "State_Location                                  0\n",
       "Near_Airport                                    0\n",
       "Aircraft.damage_missing_or_unknown              0\n",
       "Make_missing_or_unknown                         0\n",
       "Number.of.Engines_missing_or_unknown            0\n",
       "Engine.Type_missing_or_unknown                  0\n",
       "Purpose.of.flight_missing_or_unknown            0\n",
       "Weather.Condition_missing_or_unknown            0\n",
       "Broad.phase.of.flight_missing_or_unknown        0\n",
       "dtype: int64"
      ]
     },
     "execution_count": 79,
     "metadata": {},
     "output_type": "execute_result"
    }
   ],
   "source": [
    "# Count 'Unknown' values for each column in the dataset\n",
    "unknown_counts = df_basic_handle_missing.apply(lambda col: (col == 'Unknown').sum())\n",
    "\n",
    "unknown_counts"
   ]
  },
  {
   "cell_type": "code",
   "execution_count": 80,
   "id": "b3181db0",
   "metadata": {},
   "outputs": [],
   "source": [
    "df_basic_handle_missing['Make'] = \\\n",
    "    df_basic_handle_missing['Make'].replace('Unknown', mode_value_purpose_flight)"
   ]
  },
  {
   "cell_type": "code",
   "execution_count": 81,
   "id": "2c1a708e",
   "metadata": {
    "scrolled": false
   },
   "outputs": [
    {
     "data": {
      "text/plain": [
       "Injury.Severity                             0\n",
       "Aircraft.damage                             0\n",
       "Make                                        0\n",
       "Model                                       0\n",
       "Amateur.Built                               0\n",
       "Number.of.Engines                           0\n",
       "Engine.Type                                 0\n",
       "Purpose.of.flight                           0\n",
       "Weather.Condition                           0\n",
       "Broad.phase.of.flight                       0\n",
       "Year                                        0\n",
       "Month.Abbr                                  0\n",
       "Day.Name.Abbr                               0\n",
       "Weekend                                     0\n",
       "Survival.Rate                               0\n",
       "State_Location                              0\n",
       "Near_Airport                                0\n",
       "Aircraft.damage_missing_or_unknown          0\n",
       "Make_missing_or_unknown                     0\n",
       "Number.of.Engines_missing_or_unknown        0\n",
       "Engine.Type_missing_or_unknown              0\n",
       "Purpose.of.flight_missing_or_unknown        0\n",
       "Weather.Condition_missing_or_unknown        0\n",
       "Broad.phase.of.flight_missing_or_unknown    0\n",
       "dtype: int64"
      ]
     },
     "execution_count": 81,
     "metadata": {},
     "output_type": "execute_result"
    }
   ],
   "source": [
    "df_basic_handle_missing.isnull().sum()"
   ]
  },
  {
   "cell_type": "code",
   "execution_count": 82,
   "id": "79f83dd8",
   "metadata": {},
   "outputs": [],
   "source": [
    "# Normalize the target variables\n",
    "# Invert the measure of survival rate so that higher values indicate higher severity\n",
    "df_basic_handle_missing['Normalized_Survival.Rate'] = 1 - df_basic_handle_missing['Survival.Rate']\n",
    "\n",
    "# Encoding and Scaling the categorical data\n",
    "severity_mapping = {'Non-Fatal': 0, 'Minor': 1/3, 'Serious': 2/3, 'Fatal': 1}\n",
    "damage_mapping = {'None': 0, 'Minor': 1/3, 'Substantial': 2/3, 'Destroyed': 1}\n",
    "\n",
    "df_basic_handle_missing['Normalized_Injury.Severity'] = df_basic_handle_missing['Injury.Severity'].map(severity_mapping)\n",
    "df_basic_handle_missing['Normalized_Aircraft.damage'] = df_basic_handle_missing['Aircraft.damage'].map(damage_mapping)"
   ]
  },
  {
   "cell_type": "code",
   "execution_count": 83,
   "id": "84f9deb7",
   "metadata": {
    "scrolled": false
   },
   "outputs": [
    {
     "data": {
      "text/html": [
       "<div>\n",
       "<style scoped>\n",
       "    .dataframe tbody tr th:only-of-type {\n",
       "        vertical-align: middle;\n",
       "    }\n",
       "\n",
       "    .dataframe tbody tr th {\n",
       "        vertical-align: top;\n",
       "    }\n",
       "\n",
       "    .dataframe thead th {\n",
       "        text-align: right;\n",
       "    }\n",
       "</style>\n",
       "<table border=\"1\" class=\"dataframe\">\n",
       "  <thead>\n",
       "    <tr style=\"text-align: right;\">\n",
       "      <th></th>\n",
       "      <th>Normalized_Injury.Severity</th>\n",
       "      <th>Normalized_Aircraft.damage</th>\n",
       "      <th>Normalized_Survival.Rate</th>\n",
       "    </tr>\n",
       "  </thead>\n",
       "  <tbody>\n",
       "    <tr>\n",
       "      <th>0</th>\n",
       "      <td>0.000000</td>\n",
       "      <td>0.666667</td>\n",
       "      <td>0.0</td>\n",
       "    </tr>\n",
       "    <tr>\n",
       "      <th>1</th>\n",
       "      <td>0.000000</td>\n",
       "      <td>0.666667</td>\n",
       "      <td>0.0</td>\n",
       "    </tr>\n",
       "    <tr>\n",
       "      <th>2</th>\n",
       "      <td>0.000000</td>\n",
       "      <td>0.666667</td>\n",
       "      <td>0.0</td>\n",
       "    </tr>\n",
       "    <tr>\n",
       "      <th>3</th>\n",
       "      <td>0.000000</td>\n",
       "      <td>0.666667</td>\n",
       "      <td>0.0</td>\n",
       "    </tr>\n",
       "    <tr>\n",
       "      <th>4</th>\n",
       "      <td>0.000000</td>\n",
       "      <td>0.666667</td>\n",
       "      <td>0.0</td>\n",
       "    </tr>\n",
       "    <tr>\n",
       "      <th>...</th>\n",
       "      <td>...</td>\n",
       "      <td>...</td>\n",
       "      <td>...</td>\n",
       "    </tr>\n",
       "    <tr>\n",
       "      <th>68558</th>\n",
       "      <td>0.333333</td>\n",
       "      <td>0.666667</td>\n",
       "      <td>0.0</td>\n",
       "    </tr>\n",
       "    <tr>\n",
       "      <th>68559</th>\n",
       "      <td>0.333333</td>\n",
       "      <td>0.666667</td>\n",
       "      <td>0.0</td>\n",
       "    </tr>\n",
       "    <tr>\n",
       "      <th>68560</th>\n",
       "      <td>0.333333</td>\n",
       "      <td>0.666667</td>\n",
       "      <td>0.0</td>\n",
       "    </tr>\n",
       "    <tr>\n",
       "      <th>68562</th>\n",
       "      <td>0.000000</td>\n",
       "      <td>0.666667</td>\n",
       "      <td>0.0</td>\n",
       "    </tr>\n",
       "    <tr>\n",
       "      <th>68564</th>\n",
       "      <td>0.333333</td>\n",
       "      <td>0.666667</td>\n",
       "      <td>0.0</td>\n",
       "    </tr>\n",
       "  </tbody>\n",
       "</table>\n",
       "<p>66972 rows × 3 columns</p>\n",
       "</div>"
      ],
      "text/plain": [
       "       Normalized_Injury.Severity  Normalized_Aircraft.damage  \\\n",
       "0                        0.000000                    0.666667   \n",
       "1                        0.000000                    0.666667   \n",
       "2                        0.000000                    0.666667   \n",
       "3                        0.000000                    0.666667   \n",
       "4                        0.000000                    0.666667   \n",
       "...                           ...                         ...   \n",
       "68558                    0.333333                    0.666667   \n",
       "68559                    0.333333                    0.666667   \n",
       "68560                    0.333333                    0.666667   \n",
       "68562                    0.000000                    0.666667   \n",
       "68564                    0.333333                    0.666667   \n",
       "\n",
       "       Normalized_Survival.Rate  \n",
       "0                           0.0  \n",
       "1                           0.0  \n",
       "2                           0.0  \n",
       "3                           0.0  \n",
       "4                           0.0  \n",
       "...                         ...  \n",
       "68558                       0.0  \n",
       "68559                       0.0  \n",
       "68560                       0.0  \n",
       "68562                       0.0  \n",
       "68564                       0.0  \n",
       "\n",
       "[66972 rows x 3 columns]"
      ]
     },
     "execution_count": 83,
     "metadata": {},
     "output_type": "execute_result"
    }
   ],
   "source": [
    "df_basic_handle_missing[['Normalized_Injury.Severity', 'Normalized_Aircraft.damage', 'Normalized_Survival.Rate']]"
   ]
  },
  {
   "cell_type": "code",
   "execution_count": 84,
   "id": "b96f697c",
   "metadata": {},
   "outputs": [],
   "source": [
    "df_basic_handle_missing['Composite_Severity.Score'] = (df_basic_handle_missing['Normalized_Injury.Severity'] +\n",
    "                                  df_basic_handle_missing['Normalized_Aircraft.damage'] +\n",
    "                                  df_basic_handle_missing['Normalized_Survival.Rate']) / 3"
   ]
  },
  {
   "cell_type": "code",
   "execution_count": 85,
   "id": "094ed6d8",
   "metadata": {},
   "outputs": [],
   "source": [
    "df_basic_handle_missing = df_basic_handle_missing.drop(columns=['Injury.Severity', \n",
    "                        'Aircraft.damage', 'Survival.Rate'])"
   ]
  },
  {
   "cell_type": "code",
   "execution_count": 86,
   "id": "b3f92555",
   "metadata": {},
   "outputs": [],
   "source": [
    "df_basic_handle_missing = df_basic_handle_missing.drop(columns=['Normalized_Survival.Rate', \n",
    "                        'Normalized_Injury.Severity', 'Normalized_Aircraft.damage'])"
   ]
  },
  {
   "cell_type": "code",
   "execution_count": 87,
   "id": "5efbe508",
   "metadata": {},
   "outputs": [
    {
     "data": {
      "text/plain": [
       "Index(['Make', 'Model', 'Amateur.Built', 'Number.of.Engines', 'Engine.Type',\n",
       "       'Purpose.of.flight', 'Weather.Condition', 'Broad.phase.of.flight',\n",
       "       'Year', 'Month.Abbr', 'Day.Name.Abbr', 'Weekend', 'State_Location',\n",
       "       'Near_Airport', 'Aircraft.damage_missing_or_unknown',\n",
       "       'Make_missing_or_unknown', 'Number.of.Engines_missing_or_unknown',\n",
       "       'Engine.Type_missing_or_unknown',\n",
       "       'Purpose.of.flight_missing_or_unknown',\n",
       "       'Weather.Condition_missing_or_unknown',\n",
       "       'Broad.phase.of.flight_missing_or_unknown', 'Composite_Severity.Score'],\n",
       "      dtype='object')"
      ]
     },
     "execution_count": 87,
     "metadata": {},
     "output_type": "execute_result"
    }
   ],
   "source": [
    "df_basic_handle_missing.columns"
   ]
  },
  {
   "cell_type": "code",
   "execution_count": 88,
   "id": "12a76128",
   "metadata": {},
   "outputs": [],
   "source": [
    "df_p = df_basic_handle_missing.copy()"
   ]
  },
  {
   "cell_type": "code",
   "execution_count": 89,
   "id": "768cdb0d",
   "metadata": {},
   "outputs": [],
   "source": [
    "# We will map the composite severity score back to categorical values.\n",
    "def map_severity(score):\n",
    "    if score <= 0.2:\n",
    "        return 'Insignificant'\n",
    "    elif score <= 0.4:\n",
    "        return 'Minor'\n",
    "    elif score <= 0.6:\n",
    "        return 'Moderate'\n",
    "    elif score <= 0.8:\n",
    "        return 'Fatal'\n",
    "    else:\n",
    "        return 'Major'\n",
    "\n",
    "# Apply the function to the DataFrame column\n",
    "df_p['Categorical_Severity'] = df_p['Composite_Severity.Score'].apply(map_severity)"
   ]
  },
  {
   "cell_type": "code",
   "execution_count": 90,
   "id": "e75e70ae",
   "metadata": {},
   "outputs": [
    {
     "name": "stdout",
     "output_type": "stream",
     "text": [
      "<class 'pandas.core.frame.DataFrame'>\n",
      "Index: 66972 entries, 0 to 68564\n",
      "Data columns (total 23 columns):\n",
      " #   Column                                    Non-Null Count  Dtype  \n",
      "---  ------                                    --------------  -----  \n",
      " 0   Make                                      66972 non-null  object \n",
      " 1   Model                                     66972 non-null  object \n",
      " 2   Amateur.Built                             66972 non-null  object \n",
      " 3   Number.of.Engines                         66972 non-null  float64\n",
      " 4   Engine.Type                               66972 non-null  object \n",
      " 5   Purpose.of.flight                         66972 non-null  object \n",
      " 6   Weather.Condition                         66972 non-null  object \n",
      " 7   Broad.phase.of.flight                     66972 non-null  object \n",
      " 8   Year                                      66972 non-null  float64\n",
      " 9   Month.Abbr                                66972 non-null  object \n",
      " 10  Day.Name.Abbr                             66972 non-null  object \n",
      " 11  Weekend                                   66972 non-null  bool   \n",
      " 12  State_Location                            66972 non-null  object \n",
      " 13  Near_Airport                              66972 non-null  bool   \n",
      " 14  Aircraft.damage_missing_or_unknown        66972 non-null  int64  \n",
      " 15  Make_missing_or_unknown                   66972 non-null  int64  \n",
      " 16  Number.of.Engines_missing_or_unknown      66972 non-null  int64  \n",
      " 17  Engine.Type_missing_or_unknown            66972 non-null  int64  \n",
      " 18  Purpose.of.flight_missing_or_unknown      66972 non-null  int64  \n",
      " 19  Weather.Condition_missing_or_unknown      66972 non-null  int64  \n",
      " 20  Broad.phase.of.flight_missing_or_unknown  66972 non-null  int64  \n",
      " 21  Composite_Severity.Score                  66972 non-null  float64\n",
      " 22  Categorical_Severity                      66972 non-null  object \n",
      "dtypes: bool(2), float64(3), int64(7), object(11)\n",
      "memory usage: 11.4+ MB\n"
     ]
    }
   ],
   "source": [
    "df_p.info()"
   ]
  },
  {
   "cell_type": "code",
   "execution_count": 91,
   "id": "57c0225b",
   "metadata": {},
   "outputs": [],
   "source": [
    "df_p = df_p.drop(columns=[\"Composite_Severity.Score\"])"
   ]
  },
  {
   "cell_type": "code",
   "execution_count": 92,
   "id": "fa61af5d",
   "metadata": {},
   "outputs": [],
   "source": [
    "import pandas as pd\n",
    "from sklearn.ensemble import RandomForestClassifier\n",
    "from sklearn.model_selection import train_test_split\n",
    "from sklearn.preprocessing import LabelEncoder\n",
    "from sklearn.metrics import roc_auc_score, accuracy_score\n",
    "from sklearn.model_selection import cross_val_score\n",
    "\n",
    "# Load your dataset\n",
    "data = df_p.copy()\n",
    "\n",
    "# Frequency encoding for high-cardinality features\n",
    "frequency_encoding_make = data['Make'].value_counts().to_dict()\n",
    "data['Make_Freq'] = data['Make'].map(frequency_encoding_make)\n",
    "\n",
    "frequency_encoding_model = data['Model'].value_counts().to_dict()\n",
    "data['Model_Freq'] = data['Model'].map(frequency_encoding_model)\n",
    "\n",
    "# Label encoding for other categorical variables\n",
    "label_encoder = LabelEncoder()\n",
    "for column in ['State_Location', 'Year', 'Amateur.Built', 'Engine.Type', 'Purpose.of.flight', \n",
    "               'Weather.Condition', 'Month.Abbr', 'Day.Name.Abbr', 'Broad.phase.of.flight', \n",
    "               'Near_Airport', 'Weekend', 'Number.of.Engines']:\n",
    "    data[column] = label_encoder.fit_transform(data[column])\n",
    "\n",
    "# Prepare the target variable\n",
    "data['Categorical_Severity'] = label_encoder.fit_transform(data['Categorical_Severity'])"
   ]
  },
  {
   "cell_type": "code",
   "execution_count": 108,
   "id": "38198ea3",
   "metadata": {},
   "outputs": [],
   "source": [
    "# Split the data\n",
    "X = data.drop(['Categorical_Severity', 'Make', 'Model'], axis=1)\n",
    "y = data['Categorical_Severity']\n",
    "X_train, X_test, y_train, y_test = train_test_split(X, y, test_size=0.2, random_state=37)\n",
    "\n",
    "\n",
    "# Test with different numbers of n_estimators\n",
    "n_estimators_list = [50, 100, 200]\n",
    "results = []\n",
    "\n",
    "for n_estimators in n_estimators_list:\n",
    "    start_time = time.time()  # Start timing\n",
    "    rf = RandomForestClassifier(n_estimators=n_estimators, random_state=42)\n",
    "    rf.fit(X_train, y_train)\n",
    "    y_pred = rf.predict(X_test)\n",
    "    y_pred_proba = rf.predict_proba(X_test)\n",
    "    end_time = time.time()  # End timing\n",
    "    \n",
    "    accuracy = accuracy_score(y_test, y_pred)\n",
    "    auc_roc = roc_auc_score(y_test, y_pred_proba, multi_class='ovr')  # Handle multi-class setting\n",
    "    elapsed_time = end_time - start_time  # Calculate elapsed time\n",
    "    results.append((n_estimators, accuracy, auc_roc, elapsed_time))"
   ]
  },
  {
   "cell_type": "code",
   "execution_count": 109,
   "id": "e3d6b309",
   "metadata": {},
   "outputs": [
    {
     "data": {
      "text/plain": [
       "[(50, 0.828742067935797, 0.740939531123326, 2.035468101501465),\n",
       " (100, 0.8303844718178425, 0.7473646873926286, 4.2500388622283936),\n",
       " (200, 0.8306084359835759, 0.7592571977264722, 7.805617809295654)]"
      ]
     },
     "execution_count": 109,
     "metadata": {},
     "output_type": "execute_result"
    }
   ],
   "source": [
    "results"
   ]
  },
  {
   "cell_type": "code",
   "execution_count": 95,
   "id": "e164d486",
   "metadata": {},
   "outputs": [
    {
     "data": {
      "image/png": "[encoded data removed]",
      "text/plain": [
       "<Figure size 640x480 with 2 Axes>"
      ]
     },
     "metadata": {},
     "output_type": "display_data"
    }
   ],
   "source": [
    "# Visualizing the results\n",
    "estimators, accuracies, auc_rocs = zip(*results)\n",
    "fig, ax1 = plt.subplots()\n",
    "\n",
    "color = 'tab:red'\n",
    "ax1.set_xlabel('Number of Estimators')\n",
    "ax1.set_ylabel('Accuracy', color=color)\n",
    "ax1.plot(estimators, accuracies, 'o-', color=color)\n",
    "ax1.tick_params(axis='y', labelcolor=color)\n",
    "\n",
    "ax2 = ax1.twinx()  \n",
    "color = 'tab:blue'\n",
    "ax2.set_ylabel('AUC-ROC', color=color)  \n",
    "ax2.plot(estimators, auc_rocs, 's-', color=color)\n",
    "ax2.tick_params(axis='y', labelcolor=color)\n",
    "\n",
    "fig.tight_layout()  \n",
    "plt.title('Performance Metrics for Different n_estimators')\n",
    "plt.show()"
   ]
  },
  {
   "cell_type": "code",
   "execution_count": 110,
   "id": "b1891836",
   "metadata": {},
   "outputs": [
    {
     "name": "stdout",
     "output_type": "stream",
     "text": [
      "Cross-validated scores: [0.82709966 0.82635312 0.82522025 0.82536957 0.82611617]\n"
     ]
    }
   ],
   "source": [
    "# Select the best model based on AUC-ROC\n",
    "best_n_estimators = 100\n",
    "\n",
    "# Perform 5-fold cross-validation on the best model\n",
    "best_rf = RandomForestClassifier(n_estimators=best_n_estimators, random_state=37)\n",
    "\n",
    "# Apply stratified kfold because our target feature is imbalanced\n",
    "stratified_kfold = StratifiedKFold(n_splits=5, shuffle=True, random_state=37)\n",
    "\n",
    "# Perform 5-fold cross-validation\n",
    "scores = cross_val_score(best_rf, X, y, cv=stratified_kfold, scoring='accuracy')\n",
    "print(f\"Cross-validated scores: {scores}\")"
   ]
  },
  {
   "cell_type": "code",
   "execution_count": 111,
   "id": "05274a70",
   "metadata": {},
   "outputs": [
    {
     "name": "stdout",
     "output_type": "stream",
     "text": [
      "0.8260317537288205\n"
     ]
    }
   ],
   "source": [
    "print(scores.mean())"
   ]
  },
  {
   "cell_type": "code",
   "execution_count": 112,
   "id": "7488f02c",
   "metadata": {
    "scrolled": true
   },
   "outputs": [
    {
     "data": {
      "image/png": "[encoded data removed]",
      "text/plain": [
       "<Figure size 1000x800 with 1 Axes>"
      ]
     },
     "metadata": {},
     "output_type": "display_data"
    }
   ],
   "source": [
    "# Train the Random Forest Classifier with n_estimators=100 for feature importance analysis\n",
    "rf_best = RandomForestClassifier(n_estimators=100, random_state=37)\n",
    "rf_best.fit(X_train, y_train)\n",
    "\n",
    "# Get feature importances\n",
    "feature_importances = rf_best.feature_importances_\n",
    "\n",
    "# Creating a DataFrame to hold feature names and their importance\n",
    "features_df = pd.DataFrame({'Feature': X_train.columns, 'Importance': feature_importances})\n",
    "features_df = features_df.sort_values(by='Importance', ascending=False)\n",
    "\n",
    "# Plotting feature importances\n",
    "plt.figure(figsize=(10, 8))\n",
    "plt.barh(features_df['Feature'], features_df['Importance'], color='skyblue')\n",
    "plt.xlabel('Importance')\n",
    "plt.ylabel('Feature')\n",
    "plt.title('Feature Importances in Random Forest Model')\n",
    "plt.gca().invert_yaxis()  # Invert y-axis to have the most important feature on top\n",
    "plt.show()"
   ]
  },
  {
   "cell_type": "code",
   "execution_count": 102,
   "id": "b5bf2ffb",
   "metadata": {},
   "outputs": [
    {
     "name": "stdout",
     "output_type": "stream",
     "text": [
      "Fitting 3 folds for each of 54 candidates, totalling 162 fits\n"
     ]
    },
    {
     "data": {
      "text/plain": [
       "({'max_depth': 30,\n",
       "  'max_features': 'sqrt',\n",
       "  'min_samples_leaf': 1,\n",
       "  'min_samples_split': 10},\n",
       " 0.827425947701439)"
      ]
     },
     "execution_count": 102,
     "metadata": {},
     "output_type": "execute_result"
    }
   ],
   "source": [
    "# Define the parameter grid\n",
    "param_grid = {\n",
    "    'max_depth': [10, 20, 30],\n",
    "    'min_samples_split': [2, 5, 10],\n",
    "    'min_samples_leaf': [1, 2, 4],\n",
    "    'max_features': ['sqrt', 'log2']\n",
    "}\n",
    "\n",
    "# Create the GridSearchCV object\n",
    "grid_search = GridSearchCV(estimator=RandomForestClassifier(n_estimators=100, random_state=42),\n",
    "                           param_grid=param_grid,\n",
    "                           scoring='accuracy',  # Using accuracy for simplicity, could also use ROC AUC\n",
    "                           cv=3,  # Using 3-fold cross-validation\n",
    "                           verbose=2,\n",
    "                           n_jobs=-1)  # Use all available cores\n",
    "\n",
    "# Fit GridSearchCV\n",
    "grid_search.fit(X_train, y_train)\n",
    "\n",
    "# Best parameters and best score\n",
    "best_params = grid_search.best_params_\n",
    "best_score = grid_search.best_score_\n",
    "\n",
    "best_params, best_score"
   ]
  },
  {
   "cell_type": "code",
   "execution_count": 104,
   "id": "87192947",
   "metadata": {},
   "outputs": [
    {
     "data": {
      "image/png": "[encoded data removed]",
      "text/plain": [
       "<Figure size 800x500 with 1 Axes>"
      ]
     },
     "metadata": {},
     "output_type": "display_data"
    },
    {
     "data": {
      "text/plain": [
       "(0.8307577454273983, 0.8338185890257559)"
      ]
     },
     "execution_count": 104,
     "metadata": {},
     "output_type": "execute_result"
    }
   ],
   "source": [
    "# Set the optimized parameters from the user's grid search result\n",
    "optimized_params = {\n",
    "    'max_depth': 30,\n",
    "    'max_features': 'sqrt',\n",
    "    'min_samples_leaf': 4,\n",
    "    'min_samples_split': 10\n",
    "}\n",
    "\n",
    "# Initialize and train the Random Forest model with the optimized parameters\n",
    "rf_optimized = RandomForestClassifier(n_estimators=100, random_state=37, **optimized_params)\n",
    "rf_optimized.fit(X_train, y_train)\n",
    "\n",
    "# Predict and calculate accuracy for the optimized model\n",
    "y_pred_optimized = rf_optimized.predict(X_test)\n",
    "accuracy_optimized = accuracy_score(y_test, y_pred_optimized)\n",
    "\n",
    "# Initialize and train the original Random Forest model with default parameters\n",
    "rf_original = RandomForestClassifier(n_estimators=100, random_state=37)\n",
    "rf_original.fit(X_train, y_train)\n",
    "\n",
    "# Predict and calculate accuracy for the original model\n",
    "y_pred_original = rf_original.predict(X_test)\n",
    "accuracy_original = accuracy_score(y_test, y_pred_original)\n",
    "\n",
    "# Comparing and visualizing the results\n",
    "accuracies = [accuracy_original, accuracy_optimized]\n",
    "models = ['Original', 'Optimized']\n",
    "\n",
    "plt.figure(figsize=(8, 5))\n",
    "plt.bar(models, accuracies, color=['blue', 'green'])\n",
    "plt.xlabel('Model')\n",
    "plt.ylabel('Accuracy')\n",
    "plt.title('Comparison of Model Accuracies')\n",
    "plt.ylim([0.75, 0.85])  # Set y-axis limits to better highlight differences\n",
    "plt.show()\n",
    "\n",
    "accuracy_original, accuracy_optimized"
   ]
  },
  {
   "cell_type": "code",
   "execution_count": 116,
   "id": "a06348ee",
   "metadata": {},
   "outputs": [
    {
     "data": {
      "image/png": "[encoded data removed]",
      "text/plain": [
       "<Figure size 1400x600 with 2 Axes>"
      ]
     },
     "metadata": {},
     "output_type": "display_data"
    }
   ],
   "source": [
    "# Top ten models with the most number of accidents\n",
    "top_models = df_p['Model'].value_counts().head(10)\n",
    "top_month = df_p['Month.Abbr'].value_counts().head(10)\n",
    "\n",
    "# Plotting\n",
    "fig, axes = plt.subplots(nrows=1, ncols=2, figsize=(14, 6))\n",
    "\n",
    "# Top Ten Models Plot\n",
    "top_models.plot(kind='bar', ax=axes[0], color='skyblue')\n",
    "axes[0].set_title('Top Ten Models with Most Accidents')\n",
    "axes[0].set_ylabel('Number of Accidents')\n",
    "axes[0].set_xlabel('Model')\n",
    "\n",
    "# Top Ten Month Plot\n",
    "top_month.plot(kind='bar', ax=axes[1], color='lightgreen')\n",
    "axes[1].set_title('Top Ten Month with Most Accidents')\n",
    "axes[1].set_ylabel('Number of Accidents')\n",
    "axes[1].set_xlabel('State')\n",
    "\n",
    "plt.tight_layout()\n",
    "plt.show()"
   ]
  },
  {
   "cell_type": "code",
   "execution_count": null,
   "id": "421c2246",
   "metadata": {},
   "outputs": [],
   "source": []
  }
 ],
 "metadata": {
  "kernelspec": {
   "display_name": "Python 3 (ipykernel)",
   "language": "python",
   "name": "python3"
  },
  "language_info": {
   "codemirror_mode": {
    "name": "ipython",
    "version": 3
   },
   "file_extension": ".py",
   "mimetype": "text/x-python",
   "name": "python",
   "nbconvert_exporter": "python",
   "pygments_lexer": "ipython3",
   "version": "3.11.5"
  }
 },
 "nbformat": 4,
 "nbformat_minor": 5
}
